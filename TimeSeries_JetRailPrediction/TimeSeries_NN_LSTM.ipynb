{
  "nbformat": 4,
  "nbformat_minor": 0,
  "metadata": {
    "colab": {
      "name": "TimeSeries_v4.ipynb",
      "provenance": [],
      "collapsed_sections": []
    },
    "kernelspec": {
      "name": "python3",
      "display_name": "Python 3"
    }
  },
  "cells": [
    {
      "cell_type": "markdown",
      "metadata": {
        "id": "gFoe8pnOFgn2"
      },
      "source": [
        "**Time series forecasting using NeuralNetworks**"
      ]
    },
    {
      "cell_type": "code",
      "metadata": {
        "id": "-uP78GVCUowb"
      },
      "source": [
        "#All imports\n",
        "\n",
        "import warnings\n",
        "warnings.filterwarnings('ignore')\n",
        "\n",
        "import time\n",
        "import pandas as pd\n",
        "import numpy as np\n",
        "from pandas.plotting import autocorrelation_plot\n",
        "\n",
        "import matplotlib.pyplot as plt\n",
        "import seaborn as sns\n",
        "\n",
        "import tensorflow as tf"
      ],
      "execution_count": null,
      "outputs": []
    },
    {
      "cell_type": "code",
      "metadata": {
        "id": "CsEQRCd4Fuks"
      },
      "source": [
        "#set seed value for reproducibility\n",
        "seed_val = 42\n",
        "tf.random.set_seed(seed_val)\n",
        "np.random.seed(seed_val)"
      ],
      "execution_count": null,
      "outputs": []
    },
    {
      "cell_type": "code",
      "metadata": {
        "colab": {
          "base_uri": "https://localhost:8080/"
        },
        "id": "66kcJ2GkU3Kl",
        "outputId": "b7cf05b2-f650-40df-dcaa-f44f94cd385c"
      },
      "source": [
        "from google.colab import drive\n",
        "drive.mount('/content/drive')"
      ],
      "execution_count": null,
      "outputs": [
        {
          "output_type": "stream",
          "text": [
            "Mounted at /content/drive\n"
          ],
          "name": "stdout"
        }
      ]
    },
    {
      "cell_type": "markdown",
      "metadata": {
        "id": "wVWdOGtKVChk"
      },
      "source": [
        "**Data Reading and Understanding**"
      ]
    },
    {
      "cell_type": "code",
      "metadata": {
        "colab": {
          "base_uri": "https://localhost:8080/",
          "height": 204
        },
        "id": "ePqpa5sAU7Y5",
        "outputId": "f40a3065-e56c-48b8-d6b3-4045e77437f6"
      },
      "source": [
        "train_df = pd.read_csv('/content/drive/MyDrive/Colab Notebooks/AV_TimeSeriesAnalysis/Train.csv')\n",
        "train_df.head()"
      ],
      "execution_count": null,
      "outputs": [
        {
          "output_type": "execute_result",
          "data": {
            "text/html": [
              "<div>\n",
              "<style scoped>\n",
              "    .dataframe tbody tr th:only-of-type {\n",
              "        vertical-align: middle;\n",
              "    }\n",
              "\n",
              "    .dataframe tbody tr th {\n",
              "        vertical-align: top;\n",
              "    }\n",
              "\n",
              "    .dataframe thead th {\n",
              "        text-align: right;\n",
              "    }\n",
              "</style>\n",
              "<table border=\"1\" class=\"dataframe\">\n",
              "  <thead>\n",
              "    <tr style=\"text-align: right;\">\n",
              "      <th></th>\n",
              "      <th>ID</th>\n",
              "      <th>Datetime</th>\n",
              "      <th>Count</th>\n",
              "    </tr>\n",
              "  </thead>\n",
              "  <tbody>\n",
              "    <tr>\n",
              "      <th>0</th>\n",
              "      <td>0</td>\n",
              "      <td>25-08-2012 00:00</td>\n",
              "      <td>8</td>\n",
              "    </tr>\n",
              "    <tr>\n",
              "      <th>1</th>\n",
              "      <td>1</td>\n",
              "      <td>25-08-2012 01:00</td>\n",
              "      <td>2</td>\n",
              "    </tr>\n",
              "    <tr>\n",
              "      <th>2</th>\n",
              "      <td>2</td>\n",
              "      <td>25-08-2012 02:00</td>\n",
              "      <td>6</td>\n",
              "    </tr>\n",
              "    <tr>\n",
              "      <th>3</th>\n",
              "      <td>3</td>\n",
              "      <td>25-08-2012 03:00</td>\n",
              "      <td>2</td>\n",
              "    </tr>\n",
              "    <tr>\n",
              "      <th>4</th>\n",
              "      <td>4</td>\n",
              "      <td>25-08-2012 04:00</td>\n",
              "      <td>2</td>\n",
              "    </tr>\n",
              "  </tbody>\n",
              "</table>\n",
              "</div>"
            ],
            "text/plain": [
              "   ID          Datetime  Count\n",
              "0   0  25-08-2012 00:00      8\n",
              "1   1  25-08-2012 01:00      2\n",
              "2   2  25-08-2012 02:00      6\n",
              "3   3  25-08-2012 03:00      2\n",
              "4   4  25-08-2012 04:00      2"
            ]
          },
          "metadata": {
            "tags": []
          },
          "execution_count": 4
        }
      ]
    },
    {
      "cell_type": "code",
      "metadata": {
        "colab": {
          "base_uri": "https://localhost:8080/",
          "height": 204
        },
        "id": "XmEKRgyeVUb0",
        "outputId": "e57e86e4-9939-4201-b0bd-295b4d951ba5"
      },
      "source": [
        "test_df = pd.read_csv('/content/drive/MyDrive/Colab Notebooks/AV_TimeSeriesAnalysis/Test.csv')\n",
        "test_df.head()"
      ],
      "execution_count": null,
      "outputs": [
        {
          "output_type": "execute_result",
          "data": {
            "text/html": [
              "<div>\n",
              "<style scoped>\n",
              "    .dataframe tbody tr th:only-of-type {\n",
              "        vertical-align: middle;\n",
              "    }\n",
              "\n",
              "    .dataframe tbody tr th {\n",
              "        vertical-align: top;\n",
              "    }\n",
              "\n",
              "    .dataframe thead th {\n",
              "        text-align: right;\n",
              "    }\n",
              "</style>\n",
              "<table border=\"1\" class=\"dataframe\">\n",
              "  <thead>\n",
              "    <tr style=\"text-align: right;\">\n",
              "      <th></th>\n",
              "      <th>ID</th>\n",
              "      <th>Datetime</th>\n",
              "    </tr>\n",
              "  </thead>\n",
              "  <tbody>\n",
              "    <tr>\n",
              "      <th>0</th>\n",
              "      <td>18288</td>\n",
              "      <td>26-09-2014 00:00</td>\n",
              "    </tr>\n",
              "    <tr>\n",
              "      <th>1</th>\n",
              "      <td>18289</td>\n",
              "      <td>26-09-2014 01:00</td>\n",
              "    </tr>\n",
              "    <tr>\n",
              "      <th>2</th>\n",
              "      <td>18290</td>\n",
              "      <td>26-09-2014 02:00</td>\n",
              "    </tr>\n",
              "    <tr>\n",
              "      <th>3</th>\n",
              "      <td>18291</td>\n",
              "      <td>26-09-2014 03:00</td>\n",
              "    </tr>\n",
              "    <tr>\n",
              "      <th>4</th>\n",
              "      <td>18292</td>\n",
              "      <td>26-09-2014 04:00</td>\n",
              "    </tr>\n",
              "  </tbody>\n",
              "</table>\n",
              "</div>"
            ],
            "text/plain": [
              "      ID          Datetime\n",
              "0  18288  26-09-2014 00:00\n",
              "1  18289  26-09-2014 01:00\n",
              "2  18290  26-09-2014 02:00\n",
              "3  18291  26-09-2014 03:00\n",
              "4  18292  26-09-2014 04:00"
            ]
          },
          "metadata": {
            "tags": []
          },
          "execution_count": 5
        }
      ]
    },
    {
      "cell_type": "code",
      "metadata": {
        "colab": {
          "base_uri": "https://localhost:8080/"
        },
        "id": "qQLUjUEOVeab",
        "outputId": "33bd35b7-eab2-47b3-d9a1-858aeefb3091"
      },
      "source": [
        "train_df.info()"
      ],
      "execution_count": null,
      "outputs": [
        {
          "output_type": "stream",
          "text": [
            "<class 'pandas.core.frame.DataFrame'>\n",
            "RangeIndex: 18288 entries, 0 to 18287\n",
            "Data columns (total 3 columns):\n",
            " #   Column    Non-Null Count  Dtype \n",
            "---  ------    --------------  ----- \n",
            " 0   ID        18288 non-null  int64 \n",
            " 1   Datetime  18288 non-null  object\n",
            " 2   Count     18288 non-null  int64 \n",
            "dtypes: int64(2), object(1)\n",
            "memory usage: 428.8+ KB\n"
          ],
          "name": "stdout"
        }
      ]
    },
    {
      "cell_type": "code",
      "metadata": {
        "id": "t3CZWnCycWS8"
      },
      "source": [
        "#converting the datetime column from object to datetime\n",
        "train_df['Datetime'] = pd.to_datetime(train_df['Datetime'], format=\"%d-%m-%Y %H:%M\", errors=\"coerce\").fillna(pd.to_datetime(train_df['Datetime'], format=\"%d/%m/%Y %H:%M\", errors=\"coerce\"))\n",
        "test_df['Datetime'] = pd.to_datetime(test_df['Datetime'], format=\"%d-%m-%Y %H:%M\", errors=\"coerce\").fillna(pd.to_datetime(test_df['Datetime'], format=\"%d/%m/%Y %H:%M\", errors=\"coerce\"))"
      ],
      "execution_count": null,
      "outputs": []
    },
    {
      "cell_type": "code",
      "metadata": {
        "colab": {
          "base_uri": "https://localhost:8080/"
        },
        "id": "RVX8T6KjfBku",
        "outputId": "7417d19c-3e45-481f-9f33-fc8f11745195"
      },
      "source": [
        "#check if time values are equally spaced\n",
        "time_shift = train_df['Datetime'].shift(1)\n",
        "time_diff = train_df['Datetime'] - time_shift\n",
        "time_diff.value_counts()"
      ],
      "execution_count": null,
      "outputs": [
        {
          "output_type": "execute_result",
          "data": {
            "text/plain": [
              "0 days 01:00:00    18287\n",
              "Name: Datetime, dtype: int64"
            ]
          },
          "metadata": {
            "tags": []
          },
          "execution_count": 8
        }
      ]
    },
    {
      "cell_type": "code",
      "metadata": {
        "colab": {
          "base_uri": "https://localhost:8080/"
        },
        "id": "AtL6zUtB4Ad_",
        "outputId": "3e3affb0-9a95-4354-830a-4457a6c8737d"
      },
      "source": [
        "train_max_date = train_df['Datetime'].max()\n",
        "test_max_date = test_df['Datetime'].max()\n",
        "out_lag = (test_max_date - train_max_date).days*24\n",
        "print (\"train max date: {} test max date: {} Out lag: {}\".format(train_max_date, test_max_date, out_lag))"
      ],
      "execution_count": null,
      "outputs": [
        {
          "output_type": "stream",
          "text": [
            "train max date: 2014-09-25 23:00:00 test max date: 2015-04-26 23:00:00 Out lag: 5112\n"
          ],
          "name": "stdout"
        }
      ]
    },
    {
      "cell_type": "markdown",
      "metadata": {
        "id": "kE5LoHlOhTE6"
      },
      "source": [
        "**Considering univariate time series**"
      ]
    },
    {
      "cell_type": "code",
      "metadata": {
        "colab": {
          "base_uri": "https://localhost:8080/",
          "height": 388
        },
        "id": "YFX1xLJahSXB",
        "outputId": "bbc0149f-49cd-4189-a1e1-3b296f109df7"
      },
      "source": [
        "plt.figure(figsize=(8,6))\n",
        "sns.lineplot(x=train_df['Datetime'], y=train_df['Count'])\n",
        "plt.show()"
      ],
      "execution_count": null,
      "outputs": [
        {
          "output_type": "display_data",
          "data": {
            "image/png": "[encoded data removed]",
            "text/plain": [
              "<Figure size 576x432 with 1 Axes>"
            ]
          },
          "metadata": {
            "tags": [],
            "needs_background": "light"
          }
        }
      ]
    },
    {
      "cell_type": "code",
      "metadata": {
        "id": "cDslkJonfkJU"
      },
      "source": [
        "#extract more features for visualization\n",
        "train_df['year'] = train_df['Datetime'].dt.year\n",
        "train_df['month'] = train_df['Datetime'].dt.month\n",
        "train_df['week'] = train_df['Datetime'].dt.weekofyear"
      ],
      "execution_count": null,
      "outputs": []
    },
    {
      "cell_type": "code",
      "metadata": {
        "colab": {
          "base_uri": "https://localhost:8080/",
          "height": 402
        },
        "id": "fDcE8YA1lclu",
        "outputId": "376af31c-b5f0-4f2c-f427-406c4721d8e4"
      },
      "source": [
        "#visualize count of passengers year-wise\n",
        "plt.figure(figsize=(10,6))\n",
        "count_by_year = train_df[['year', 'Count']].groupby(by=['year']).sum()\n",
        "plt.plot(count_by_year)"
      ],
      "execution_count": null,
      "outputs": [
        {
          "output_type": "execute_result",
          "data": {
            "text/plain": [
              "[<matplotlib.lines.Line2D at 0x7ff2d7f328d0>]"
            ]
          },
          "metadata": {
            "tags": []
          },
          "execution_count": 8
        },
        {
          "output_type": "display_data",
          "data": {
            "image/png": "[encoded data removed]",
            "text/plain": [
              "<Figure size 720x432 with 1 Axes>"
            ]
          },
          "metadata": {
            "tags": [],
            "needs_background": "light"
          }
        }
      ]
    },
    {
      "cell_type": "code",
      "metadata": {
        "colab": {
          "base_uri": "https://localhost:8080/",
          "height": 282
        },
        "id": "qqTINn9ump15",
        "outputId": "296927f3-ac8a-42be-d270-48e6440c9042"
      },
      "source": [
        "#visualize passengers count month-wise for each year\n",
        "count_by_month_2012 = train_df[train_df['year'] == 2012][['month', 'Count']].groupby(by=['month']).sum()\n",
        "plt.plot(count_by_month_2012)"
      ],
      "execution_count": null,
      "outputs": [
        {
          "output_type": "execute_result",
          "data": {
            "text/plain": [
              "[<matplotlib.lines.Line2D at 0x7ff2d6795a10>]"
            ]
          },
          "metadata": {
            "tags": []
          },
          "execution_count": 9
        },
        {
          "output_type": "display_data",
          "data": {
            "image/png": "[encoded data removed]",
            "text/plain": [
              "<Figure size 432x288 with 1 Axes>"
            ]
          },
          "metadata": {
            "tags": [],
            "needs_background": "light"
          }
        }
      ]
    },
    {
      "cell_type": "code",
      "metadata": {
        "colab": {
          "base_uri": "https://localhost:8080/",
          "height": 282
        },
        "id": "1IwVwMFNnia-",
        "outputId": "feb92745-a7ab-4631-8257-55425d0741d9"
      },
      "source": [
        "count_by_month_2013 = train_df[train_df['year'] == 2013][['month', 'Count']].groupby(by=['month']).sum()\n",
        "plt.plot(count_by_month_2013)"
      ],
      "execution_count": null,
      "outputs": [
        {
          "output_type": "execute_result",
          "data": {
            "text/plain": [
              "[<matplotlib.lines.Line2D at 0x7ff2d671a390>]"
            ]
          },
          "metadata": {
            "tags": []
          },
          "execution_count": 10
        },
        {
          "output_type": "display_data",
          "data": {
            "image/png": "[encoded data removed]",
            "text/plain": [
              "<Figure size 432x288 with 1 Axes>"
            ]
          },
          "metadata": {
            "tags": [],
            "needs_background": "light"
          }
        }
      ]
    },
    {
      "cell_type": "code",
      "metadata": {
        "colab": {
          "base_uri": "https://localhost:8080/",
          "height": 282
        },
        "id": "VxSYjGaIn8fj",
        "outputId": "9a952e96-8155-467b-eda9-228c59f5fb5b"
      },
      "source": [
        "count_by_month_2014 = train_df[train_df['year'] == 2014][['month', 'Count']].groupby(by=['month']).sum()\n",
        "plt.plot(count_by_month_2014)"
      ],
      "execution_count": null,
      "outputs": [
        {
          "output_type": "execute_result",
          "data": {
            "text/plain": [
              "[<matplotlib.lines.Line2D at 0x7f2f921bc9d0>]"
            ]
          },
          "metadata": {
            "tags": []
          },
          "execution_count": 51
        },
        {
          "output_type": "display_data",
          "data": {
            "image/png": "[encoded data removed]",
            "text/plain": [
              "<Figure size 432x288 with 1 Axes>"
            ]
          },
          "metadata": {
            "tags": [],
            "needs_background": "light"
          }
        }
      ]
    },
    {
      "cell_type": "markdown",
      "metadata": {
        "id": "0izyslJSq43k"
      },
      "source": [
        "**From plots above, there is a coninous increasing trend in passangers**"
      ]
    },
    {
      "cell_type": "code",
      "metadata": {
        "id": "WdU800xq5mYK"
      },
      "source": [
        "X = train_df['Count']\n",
        "y = train_df['Count'].shift(-out_lag)"
      ],
      "execution_count": null,
      "outputs": []
    },
    {
      "cell_type": "code",
      "metadata": {
        "id": "EypkVdWL6U3i"
      },
      "source": [
        "cols, names = list(), list(['Count'])\n",
        "for i in range(1, 31, 1):\n",
        "  cols.append(X.shift(i))\n",
        "  names.append(\"Count-{}\".format(i))\n",
        "\n",
        "features = pd.concat(cols, axis=1)\n",
        "X_features = pd.concat([X, features], axis=1)\n",
        "X_features.columns = names\n",
        "X_features.fillna(0, inplace=True)"
      ],
      "execution_count": null,
      "outputs": []
    },
    {
      "cell_type": "code",
      "metadata": {
        "id": "i77eJu4Sx9IA"
      },
      "source": [
        "X_features = X"
      ],
      "execution_count": null,
      "outputs": []
    },
    {
      "cell_type": "markdown",
      "metadata": {
        "id": "Jq_q9ZYerNcd"
      },
      "source": [
        "**Modelling**"
      ]
    },
    {
      "cell_type": "code",
      "metadata": {
        "id": "baAR4b07DwxO"
      },
      "source": [
        "X_test = X_features[-5112:]\n",
        "X_features = X_features[:-5112]\n",
        "y = y[:-5112]\n",
        "\n",
        "split_index = int(len(X_features)*0.80)\n",
        "X_train, y_train = X_features[0:split_index], y[0:split_index]\n",
        "X_val, y_val = X_features[split_index:] , y[split_index:]"
      ],
      "execution_count": null,
      "outputs": []
    },
    {
      "cell_type": "markdown",
      "metadata": {
        "id": "vaQpgx9cGea2"
      },
      "source": [
        "**Neural network**"
      ]
    },
    {
      "cell_type": "code",
      "metadata": {
        "id": "GX8ci4O8GC8H"
      },
      "source": [
        "class IterStats(tf.keras.callbacks.Callback):\n",
        "  lr = []\n",
        "  train_loss = []\n",
        "  val_loss = []\n",
        "  iters = []\n",
        "  def on_epoch_end(self, epoch, logs):\n",
        "    self.lr.append(self.model.optimizer.learning_rate.numpy())\n",
        "    self.train_loss.append(logs['loss'])\n",
        "    self.val_loss.append(logs['val_loss'])\n",
        "    self.iters.append(epoch)\n",
        "    print (\"lr: {} train_loss: {} val_loss: {} epoch: {}\".format(self.model.optimizer.learning_rate.numpy(), logs['loss'], logs['val_loss'], epoch))\n"
      ],
      "execution_count": null,
      "outputs": []
    },
    {
      "cell_type": "code",
      "metadata": {
        "id": "6xQpngZ1HTih"
      },
      "source": [
        "stats = IterStats()"
      ],
      "execution_count": null,
      "outputs": []
    },
    {
      "cell_type": "code",
      "metadata": {
        "id": "Vx0aN5tAw8LB"
      },
      "source": [
        "def validate_model(model, train_x, train_y, val_x, val_y):\n",
        "  opt = tf.keras.optimizers.Adam(lr=1e-4)\n",
        "  #lr_schedule = tf.keras.callbacks.LearningRateScheduler(lambda epoch: 1e-4 * 10**(epoch / 20))\n",
        "  \n",
        "  early_stopping = tf.keras.callbacks.EarlyStopping(monitor='val_loss', patience=50, mode='min')\n",
        "  model.compile(loss='mse', optimizer=opt, metrics=[tf.keras.metrics.RootMeanSquaredError()])\n",
        "  model.fit(train_x, train_y, epochs=100, validation_data = (val_x, val_y), callbacks=[early_stopping, stats])\n",
        "\n",
        "  return model"
      ],
      "execution_count": null,
      "outputs": []
    },
    {
      "cell_type": "code",
      "metadata": {
        "id": "zV604lIaFNk9"
      },
      "source": [
        "def build_model(model, train_x, train_y, lr, iter):\n",
        "  opt = tf.keras.optimizers.Adam(lr)\n",
        "  model.compile(loss='mse', optimizer=opt, metrics=[tf.keras.metrics.RootMeanSquaredError()])\n",
        "  model.fit(train_x, train_y, epochs=iter)\n",
        "\n",
        "  return model"
      ],
      "execution_count": null,
      "outputs": []
    },
    {
      "cell_type": "markdown",
      "metadata": {
        "id": "OnHubxtq4iAD"
      },
      "source": [
        "**LSTM model**"
      ]
    },
    {
      "cell_type": "code",
      "metadata": {
        "id": "cE3ALq9dyWMX"
      },
      "source": [
        "X_train = np.array(X_train).reshape(-1,1)\n",
        "X_val = np.array(X_val).reshape(-1,1)"
      ],
      "execution_count": null,
      "outputs": []
    },
    {
      "cell_type": "code",
      "metadata": {
        "id": "3FUb6HO7be6W"
      },
      "source": [
        "#Reshaping the data as per expected dimension of LSTM\n",
        "X_train = np.expand_dims(X_train[:,:], axis=2)\n",
        "X_val = np.expand_dims(X_val[:,:], axis=2)"
      ],
      "execution_count": null,
      "outputs": []
    },
    {
      "cell_type": "code",
      "metadata": {
        "colab": {
          "base_uri": "https://localhost:8080/"
        },
        "id": "F0nmroRwy4jq",
        "outputId": "743249f9-23c8-4da8-ed4a-9a3a038ba2dd"
      },
      "source": [
        "X_val.shape"
      ],
      "execution_count": null,
      "outputs": [
        {
          "output_type": "execute_result",
          "data": {
            "text/plain": [
              "(2636, 1, 1)"
            ]
          },
          "metadata": {
            "tags": []
          },
          "execution_count": 31
        }
      ]
    },
    {
      "cell_type": "code",
      "metadata": {
        "colab": {
          "base_uri": "https://localhost:8080/"
        },
        "id": "wC6tp-OvX2Yu",
        "outputId": "3e0eef25-e8d4-4665-c0e2-2524893bc4f0"
      },
      "source": [
        "model = tf.keras.models.Sequential(\n",
        "        [\n",
        "          tf.keras.layers.LSTM(units=64, activation='relu',input_shape=(X_train.shape[1], X_train.shape[2])),\n",
        "          tf.keras.layers.Dropout(0.2),          \n",
        "          tf.keras.layers.Dense(1)\n",
        "        ]\n",
        "        )\n",
        "\n",
        "model = validate_model(model,X_train, y_train, X_val, y_val)"
      ],
      "execution_count": null,
      "outputs": [
        {
          "output_type": "stream",
          "text": [
            "Epoch 1/100\n",
            "330/330 [==============================] - 3s 4ms/step - loss: 31585.4143 - root_mean_squared_error: 177.6953 - val_loss: 167173.1094 - val_root_mean_squared_error: 408.8681\n",
            "lr: 9.999999747378752e-05 train_loss: 30742.708984375 val_loss: 167173.109375 epoch: 0\n",
            "Epoch 2/100\n",
            "330/330 [==============================] - 1s 3ms/step - loss: 27827.2158 - root_mean_squared_error: 166.7872 - val_loss: 102878.1406 - val_root_mean_squared_error: 320.7462\n",
            "lr: 9.999999747378752e-05 train_loss: 26018.728515625 val_loss: 102878.140625 epoch: 1\n",
            "Epoch 3/100\n",
            "330/330 [==============================] - 1s 3ms/step - loss: 18747.3150 - root_mean_squared_error: 136.8619 - val_loss: 71038.1094 - val_root_mean_squared_error: 266.5298\n",
            "lr: 9.999999747378752e-05 train_loss: 17373.80078125 val_loss: 71038.109375 epoch: 2\n",
            "Epoch 4/100\n",
            "330/330 [==============================] - 1s 3ms/step - loss: 15022.3832 - root_mean_squared_error: 122.5456 - val_loss: 57562.9258 - val_root_mean_squared_error: 239.9227\n",
            "lr: 9.999999747378752e-05 train_loss: 14434.400390625 val_loss: 57562.92578125 epoch: 3\n",
            "Epoch 5/100\n",
            "330/330 [==============================] - 1s 3ms/step - loss: 13338.1110 - root_mean_squared_error: 115.4651 - val_loss: 49269.0430 - val_root_mean_squared_error: 221.9663\n",
            "lr: 9.999999747378752e-05 train_loss: 12926.568359375 val_loss: 49269.04296875 epoch: 4\n",
            "Epoch 6/100\n",
            "330/330 [==============================] - 1s 3ms/step - loss: 12451.8696 - root_mean_squared_error: 111.5736 - val_loss: 46533.9062 - val_root_mean_squared_error: 215.7172\n",
            "lr: 9.999999747378752e-05 train_loss: 12303.96484375 val_loss: 46533.90625 epoch: 5\n",
            "Epoch 7/100\n",
            "330/330 [==============================] - 1s 3ms/step - loss: 11578.7409 - root_mean_squared_error: 107.5820 - val_loss: 45109.8789 - val_root_mean_squared_error: 212.3909\n",
            "lr: 9.999999747378752e-05 train_loss: 11980.669921875 val_loss: 45109.87890625 epoch: 6\n",
            "Epoch 8/100\n",
            "330/330 [==============================] - 1s 3ms/step - loss: 11444.7376 - root_mean_squared_error: 106.9079 - val_loss: 44356.4570 - val_root_mean_squared_error: 210.6097\n",
            "lr: 9.999999747378752e-05 train_loss: 11662.2705078125 val_loss: 44356.45703125 epoch: 7\n",
            "Epoch 9/100\n",
            "330/330 [==============================] - 1s 3ms/step - loss: 11680.7625 - root_mean_squared_error: 108.0551 - val_loss: 44049.3008 - val_root_mean_squared_error: 209.8793\n",
            "lr: 9.999999747378752e-05 train_loss: 11693.2861328125 val_loss: 44049.30078125 epoch: 8\n",
            "Epoch 10/100\n",
            "330/330 [==============================] - 1s 3ms/step - loss: 11255.2632 - root_mean_squared_error: 106.0535 - val_loss: 43882.5781 - val_root_mean_squared_error: 209.4817\n",
            "lr: 9.999999747378752e-05 train_loss: 11668.240234375 val_loss: 43882.578125 epoch: 9\n",
            "Epoch 11/100\n",
            "330/330 [==============================] - 1s 3ms/step - loss: 11541.8655 - root_mean_squared_error: 107.4237 - val_loss: 43876.6602 - val_root_mean_squared_error: 209.4676\n",
            "lr: 9.999999747378752e-05 train_loss: 11686.546875 val_loss: 43876.66015625 epoch: 10\n",
            "Epoch 12/100\n",
            "330/330 [==============================] - 1s 3ms/step - loss: 11410.6446 - root_mean_squared_error: 106.8095 - val_loss: 43859.5625 - val_root_mean_squared_error: 209.4267\n",
            "lr: 9.999999747378752e-05 train_loss: 11492.6513671875 val_loss: 43859.5625 epoch: 11\n",
            "Epoch 13/100\n",
            "330/330 [==============================] - 1s 3ms/step - loss: 11715.8591 - root_mean_squared_error: 108.2226 - val_loss: 43788.4062 - val_root_mean_squared_error: 209.2568\n",
            "lr: 9.999999747378752e-05 train_loss: 11482.7431640625 val_loss: 43788.40625 epoch: 12\n",
            "Epoch 14/100\n",
            "330/330 [==============================] - 1s 3ms/step - loss: 11459.1715 - root_mean_squared_error: 107.0302 - val_loss: 43630.7812 - val_root_mean_squared_error: 208.8798\n",
            "lr: 9.999999747378752e-05 train_loss: 11387.994140625 val_loss: 43630.78125 epoch: 13\n",
            "Epoch 15/100\n",
            "330/330 [==============================] - 1s 3ms/step - loss: 11243.3477 - root_mean_squared_error: 106.0159 - val_loss: 43659.4375 - val_root_mean_squared_error: 208.9484\n",
            "lr: 9.999999747378752e-05 train_loss: 11427.75 val_loss: 43659.4375 epoch: 14\n",
            "Epoch 16/100\n",
            "330/330 [==============================] - 1s 3ms/step - loss: 11795.2841 - root_mean_squared_error: 108.5901 - val_loss: 43627.3281 - val_root_mean_squared_error: 208.8716\n",
            "lr: 9.999999747378752e-05 train_loss: 11478.4765625 val_loss: 43627.328125 epoch: 15\n",
            "Epoch 17/100\n",
            "330/330 [==============================] - 1s 3ms/step - loss: 11283.0654 - root_mean_squared_error: 106.1902 - val_loss: 43694.0977 - val_root_mean_squared_error: 209.0313\n",
            "lr: 9.999999747378752e-05 train_loss: 11409.5009765625 val_loss: 43694.09765625 epoch: 16\n",
            "Epoch 18/100\n",
            "330/330 [==============================] - 1s 3ms/step - loss: 11058.9729 - root_mean_squared_error: 105.1404 - val_loss: 43619.0742 - val_root_mean_squared_error: 208.8518\n",
            "lr: 9.999999747378752e-05 train_loss: 11304.0634765625 val_loss: 43619.07421875 epoch: 17\n",
            "Epoch 19/100\n",
            "330/330 [==============================] - 1s 3ms/step - loss: 11502.3889 - root_mean_squared_error: 107.2304 - val_loss: 43529.1367 - val_root_mean_squared_error: 208.6364\n",
            "lr: 9.999999747378752e-05 train_loss: 11186.5537109375 val_loss: 43529.13671875 epoch: 18\n",
            "Epoch 20/100\n",
            "330/330 [==============================] - 1s 3ms/step - loss: 11803.5470 - root_mean_squared_error: 108.4636 - val_loss: 43576.2969 - val_root_mean_squared_error: 208.7494\n",
            "lr: 9.999999747378752e-05 train_loss: 11281.7587890625 val_loss: 43576.296875 epoch: 19\n",
            "Epoch 21/100\n",
            "330/330 [==============================] - 1s 3ms/step - loss: 11390.2569 - root_mean_squared_error: 106.6889 - val_loss: 43454.6211 - val_root_mean_squared_error: 208.4577\n",
            "lr: 9.999999747378752e-05 train_loss: 11147.2314453125 val_loss: 43454.62109375 epoch: 20\n",
            "Epoch 22/100\n",
            "330/330 [==============================] - 1s 3ms/step - loss: 10981.4781 - root_mean_squared_error: 104.7664 - val_loss: 43549.0117 - val_root_mean_squared_error: 208.6840\n",
            "lr: 9.999999747378752e-05 train_loss: 11124.255859375 val_loss: 43549.01171875 epoch: 21\n",
            "Epoch 23/100\n",
            "330/330 [==============================] - 1s 3ms/step - loss: 10823.2316 - root_mean_squared_error: 104.0083 - val_loss: 43507.7227 - val_root_mean_squared_error: 208.5851\n",
            "lr: 9.999999747378752e-05 train_loss: 11039.8330078125 val_loss: 43507.72265625 epoch: 22\n",
            "Epoch 24/100\n",
            "330/330 [==============================] - 1s 3ms/step - loss: 10584.2545 - root_mean_squared_error: 102.8413 - val_loss: 43527.3555 - val_root_mean_squared_error: 208.6321\n",
            "lr: 9.999999747378752e-05 train_loss: 11144.232421875 val_loss: 43527.35546875 epoch: 23\n",
            "Epoch 25/100\n",
            "330/330 [==============================] - 1s 3ms/step - loss: 10797.4855 - root_mean_squared_error: 103.8714 - val_loss: 43457.4414 - val_root_mean_squared_error: 208.4645\n",
            "lr: 9.999999747378752e-05 train_loss: 11031.0859375 val_loss: 43457.44140625 epoch: 24\n",
            "Epoch 26/100\n",
            "330/330 [==============================] - 1s 3ms/step - loss: 10860.8921 - root_mean_squared_error: 104.1779 - val_loss: 43433.3711 - val_root_mean_squared_error: 208.4067\n",
            "lr: 9.999999747378752e-05 train_loss: 11043.1826171875 val_loss: 43433.37109375 epoch: 25\n",
            "Epoch 27/100\n",
            "330/330 [==============================] - 1s 3ms/step - loss: 11217.4481 - root_mean_squared_error: 105.8966 - val_loss: 43333.0156 - val_root_mean_squared_error: 208.1658\n",
            "lr: 9.999999747378752e-05 train_loss: 10963.9736328125 val_loss: 43333.015625 epoch: 26\n",
            "Epoch 28/100\n",
            "330/330 [==============================] - 1s 3ms/step - loss: 10862.7662 - root_mean_squared_error: 104.1756 - val_loss: 43288.4570 - val_root_mean_squared_error: 208.0588\n",
            "lr: 9.999999747378752e-05 train_loss: 10966.572265625 val_loss: 43288.45703125 epoch: 27\n",
            "Epoch 29/100\n",
            "330/330 [==============================] - 1s 3ms/step - loss: 10971.5906 - root_mean_squared_error: 104.7110 - val_loss: 43379.0820 - val_root_mean_squared_error: 208.2765\n",
            "lr: 9.999999747378752e-05 train_loss: 10981.43359375 val_loss: 43379.08203125 epoch: 28\n",
            "Epoch 30/100\n",
            "330/330 [==============================] - 1s 3ms/step - loss: 10777.1276 - root_mean_squared_error: 103.8050 - val_loss: 43308.2383 - val_root_mean_squared_error: 208.1063\n",
            "lr: 9.999999747378752e-05 train_loss: 10922.4140625 val_loss: 43308.23828125 epoch: 29\n",
            "Epoch 31/100\n",
            "330/330 [==============================] - 1s 3ms/step - loss: 11207.8884 - root_mean_squared_error: 105.7932 - val_loss: 43235.9844 - val_root_mean_squared_error: 207.9326\n",
            "lr: 9.999999747378752e-05 train_loss: 10849.025390625 val_loss: 43235.984375 epoch: 30\n",
            "Epoch 32/100\n",
            "330/330 [==============================] - 1s 3ms/step - loss: 11089.0518 - root_mean_squared_error: 105.2453 - val_loss: 43168.1914 - val_root_mean_squared_error: 207.7696\n",
            "lr: 9.999999747378752e-05 train_loss: 10766.0048828125 val_loss: 43168.19140625 epoch: 31\n",
            "Epoch 33/100\n",
            "330/330 [==============================] - 1s 3ms/step - loss: 10807.6590 - root_mean_squared_error: 103.9486 - val_loss: 42930.2773 - val_root_mean_squared_error: 207.1962\n",
            "lr: 9.999999747378752e-05 train_loss: 10638.6494140625 val_loss: 42930.27734375 epoch: 32\n",
            "Epoch 34/100\n",
            "330/330 [==============================] - 1s 3ms/step - loss: 10852.1664 - root_mean_squared_error: 104.1326 - val_loss: 42946.9453 - val_root_mean_squared_error: 207.2365\n",
            "lr: 9.999999747378752e-05 train_loss: 10783.7333984375 val_loss: 42946.9453125 epoch: 33\n",
            "Epoch 35/100\n",
            "330/330 [==============================] - 1s 3ms/step - loss: 10624.5013 - root_mean_squared_error: 103.0597 - val_loss: 42928.9883 - val_root_mean_squared_error: 207.1931\n",
            "lr: 9.999999747378752e-05 train_loss: 10668.662109375 val_loss: 42928.98828125 epoch: 34\n",
            "Epoch 36/100\n",
            "330/330 [==============================] - 1s 3ms/step - loss: 10203.2527 - root_mean_squared_error: 100.9959 - val_loss: 42934.5703 - val_root_mean_squared_error: 207.2066\n",
            "lr: 9.999999747378752e-05 train_loss: 10649.8310546875 val_loss: 42934.5703125 epoch: 35\n",
            "Epoch 37/100\n",
            "330/330 [==============================] - 1s 3ms/step - loss: 10912.8535 - root_mean_squared_error: 104.4339 - val_loss: 43034.0273 - val_root_mean_squared_error: 207.4464\n",
            "lr: 9.999999747378752e-05 train_loss: 10757.912109375 val_loss: 43034.02734375 epoch: 36\n",
            "Epoch 38/100\n",
            "330/330 [==============================] - 1s 3ms/step - loss: 10746.5058 - root_mean_squared_error: 103.6598 - val_loss: 42996.7578 - val_root_mean_squared_error: 207.3566\n",
            "lr: 9.999999747378752e-05 train_loss: 10659.1416015625 val_loss: 42996.7578125 epoch: 37\n",
            "Epoch 39/100\n",
            "330/330 [==============================] - 1s 3ms/step - loss: 10754.9526 - root_mean_squared_error: 103.6843 - val_loss: 42896.5234 - val_root_mean_squared_error: 207.1148\n",
            "lr: 9.999999747378752e-05 train_loss: 10553.6884765625 val_loss: 42896.5234375 epoch: 38\n",
            "Epoch 40/100\n",
            "330/330 [==============================] - 1s 3ms/step - loss: 10300.2203 - root_mean_squared_error: 101.4844 - val_loss: 42885.9766 - val_root_mean_squared_error: 207.0893\n",
            "lr: 9.999999747378752e-05 train_loss: 10373.0361328125 val_loss: 42885.9765625 epoch: 39\n",
            "Epoch 41/100\n",
            "330/330 [==============================] - 1s 4ms/step - loss: 10352.9853 - root_mean_squared_error: 101.7326 - val_loss: 42786.1445 - val_root_mean_squared_error: 206.8481\n",
            "lr: 9.999999747378752e-05 train_loss: 10527.951171875 val_loss: 42786.14453125 epoch: 40\n",
            "Epoch 42/100\n",
            "330/330 [==============================] - 1s 3ms/step - loss: 10245.9533 - root_mean_squared_error: 101.2080 - val_loss: 42630.4688 - val_root_mean_squared_error: 206.4715\n",
            "lr: 9.999999747378752e-05 train_loss: 10346.78515625 val_loss: 42630.46875 epoch: 41\n",
            "Epoch 43/100\n",
            "330/330 [==============================] - 1s 3ms/step - loss: 10561.1877 - root_mean_squared_error: 102.7298 - val_loss: 42533.8594 - val_root_mean_squared_error: 206.2374\n",
            "lr: 9.999999747378752e-05 train_loss: 10425.53515625 val_loss: 42533.859375 epoch: 42\n",
            "Epoch 44/100\n",
            "330/330 [==============================] - 1s 4ms/step - loss: 10459.9008 - root_mean_squared_error: 102.2455 - val_loss: 42635.1836 - val_root_mean_squared_error: 206.4829\n",
            "lr: 9.999999747378752e-05 train_loss: 10408.2314453125 val_loss: 42635.18359375 epoch: 43\n",
            "Epoch 45/100\n",
            "330/330 [==============================] - 1s 3ms/step - loss: 10714.7770 - root_mean_squared_error: 103.4220 - val_loss: 42489.6797 - val_root_mean_squared_error: 206.1302\n",
            "lr: 9.999999747378752e-05 train_loss: 10342.1689453125 val_loss: 42489.6796875 epoch: 44\n",
            "Epoch 46/100\n",
            "330/330 [==============================] - 1s 3ms/step - loss: 9938.2125 - root_mean_squared_error: 99.6838 - val_loss: 42498.1445 - val_root_mean_squared_error: 206.1508\n",
            "lr: 9.999999747378752e-05 train_loss: 10240.7412109375 val_loss: 42498.14453125 epoch: 45\n",
            "Epoch 47/100\n",
            "330/330 [==============================] - 1s 3ms/step - loss: 9813.2313 - root_mean_squared_error: 99.0219 - val_loss: 42616.3711 - val_root_mean_squared_error: 206.4373\n",
            "lr: 9.999999747378752e-05 train_loss: 10207.85546875 val_loss: 42616.37109375 epoch: 46\n",
            "Epoch 48/100\n",
            "330/330 [==============================] - 1s 3ms/step - loss: 10220.1183 - root_mean_squared_error: 101.0667 - val_loss: 42345.7305 - val_root_mean_squared_error: 205.7808\n",
            "lr: 9.999999747378752e-05 train_loss: 10163.6826171875 val_loss: 42345.73046875 epoch: 47\n",
            "Epoch 49/100\n",
            "330/330 [==============================] - 1s 4ms/step - loss: 9956.2919 - root_mean_squared_error: 99.7730 - val_loss: 42525.4062 - val_root_mean_squared_error: 206.2169\n",
            "lr: 9.999999747378752e-05 train_loss: 10142.2236328125 val_loss: 42525.40625 epoch: 48\n",
            "Epoch 50/100\n",
            "330/330 [==============================] - 1s 3ms/step - loss: 10561.9186 - root_mean_squared_error: 102.7318 - val_loss: 42192.4336 - val_root_mean_squared_error: 205.4080\n",
            "lr: 9.999999747378752e-05 train_loss: 10044.365234375 val_loss: 42192.43359375 epoch: 49\n",
            "Epoch 51/100\n",
            "330/330 [==============================] - 1s 3ms/step - loss: 9983.8697 - root_mean_squared_error: 99.9018 - val_loss: 42252.6602 - val_root_mean_squared_error: 205.5545\n",
            "lr: 9.999999747378752e-05 train_loss: 10088.634765625 val_loss: 42252.66015625 epoch: 50\n",
            "Epoch 52/100\n",
            "330/330 [==============================] - 1s 3ms/step - loss: 9851.4586 - root_mean_squared_error: 99.2320 - val_loss: 42296.7734 - val_root_mean_squared_error: 205.6618\n",
            "lr: 9.999999747378752e-05 train_loss: 9943.265625 val_loss: 42296.7734375 epoch: 51\n",
            "Epoch 53/100\n",
            "330/330 [==============================] - 1s 3ms/step - loss: 10957.2530 - root_mean_squared_error: 103.8799 - val_loss: 42170.5625 - val_root_mean_squared_error: 205.3547\n",
            "lr: 9.999999747378752e-05 train_loss: 9990.9619140625 val_loss: 42170.5625 epoch: 52\n",
            "Epoch 54/100\n",
            "330/330 [==============================] - 1s 3ms/step - loss: 9680.8354 - root_mean_squared_error: 98.3770 - val_loss: 41844.3359 - val_root_mean_squared_error: 204.5589\n",
            "lr: 9.999999747378752e-05 train_loss: 9891.0615234375 val_loss: 41844.3359375 epoch: 53\n",
            "Epoch 55/100\n",
            "330/330 [==============================] - 1s 3ms/step - loss: 9766.8319 - root_mean_squared_error: 98.8074 - val_loss: 42091.2266 - val_root_mean_squared_error: 205.1615\n",
            "lr: 9.999999747378752e-05 train_loss: 9998.0966796875 val_loss: 42091.2265625 epoch: 54\n",
            "Epoch 56/100\n",
            "330/330 [==============================] - 1s 3ms/step - loss: 9638.4354 - root_mean_squared_error: 98.1670 - val_loss: 41908.6328 - val_root_mean_squared_error: 204.7160\n",
            "lr: 9.999999747378752e-05 train_loss: 9718.2939453125 val_loss: 41908.6328125 epoch: 55\n",
            "Epoch 57/100\n",
            "330/330 [==============================] - 1s 3ms/step - loss: 9333.0837 - root_mean_squared_error: 96.5677 - val_loss: 41934.2305 - val_root_mean_squared_error: 204.7785\n",
            "lr: 9.999999747378752e-05 train_loss: 9822.9716796875 val_loss: 41934.23046875 epoch: 56\n",
            "Epoch 58/100\n",
            "330/330 [==============================] - 1s 4ms/step - loss: 9608.6653 - root_mean_squared_error: 97.9939 - val_loss: 41466.7383 - val_root_mean_squared_error: 203.6338\n",
            "lr: 9.999999747378752e-05 train_loss: 9726.5478515625 val_loss: 41466.73828125 epoch: 57\n",
            "Epoch 59/100\n",
            "330/330 [==============================] - 1s 3ms/step - loss: 9478.1248 - root_mean_squared_error: 97.3453 - val_loss: 41642.3320 - val_root_mean_squared_error: 204.0645\n",
            "lr: 9.999999747378752e-05 train_loss: 9557.814453125 val_loss: 41642.33203125 epoch: 58\n",
            "Epoch 60/100\n",
            "330/330 [==============================] - 1s 3ms/step - loss: 9720.4514 - root_mean_squared_error: 98.5647 - val_loss: 41614.5391 - val_root_mean_squared_error: 203.9964\n",
            "lr: 9.999999747378752e-05 train_loss: 9671.69140625 val_loss: 41614.5390625 epoch: 59\n",
            "Epoch 61/100\n",
            "330/330 [==============================] - 1s 3ms/step - loss: 9960.9529 - root_mean_squared_error: 99.7932 - val_loss: 41729.0742 - val_root_mean_squared_error: 204.2770\n",
            "lr: 9.999999747378752e-05 train_loss: 9650.9560546875 val_loss: 41729.07421875 epoch: 60\n",
            "Epoch 62/100\n",
            "330/330 [==============================] - 1s 3ms/step - loss: 9389.9786 - root_mean_squared_error: 96.8672 - val_loss: 41278.9727 - val_root_mean_squared_error: 203.1723\n",
            "lr: 9.999999747378752e-05 train_loss: 9529.2080078125 val_loss: 41278.97265625 epoch: 61\n",
            "Epoch 63/100\n",
            "330/330 [==============================] - 1s 3ms/step - loss: 9580.2351 - root_mean_squared_error: 97.8245 - val_loss: 41555.6953 - val_root_mean_squared_error: 203.8521\n",
            "lr: 9.999999747378752e-05 train_loss: 9440.6513671875 val_loss: 41555.6953125 epoch: 62\n",
            "Epoch 64/100\n",
            "330/330 [==============================] - 1s 3ms/step - loss: 9474.8948 - root_mean_squared_error: 97.3180 - val_loss: 41351.6680 - val_root_mean_squared_error: 203.3511\n",
            "lr: 9.999999747378752e-05 train_loss: 9598.9287109375 val_loss: 41351.66796875 epoch: 63\n",
            "Epoch 65/100\n",
            "330/330 [==============================] - 1s 3ms/step - loss: 9458.8790 - root_mean_squared_error: 97.2267 - val_loss: 41701.8125 - val_root_mean_squared_error: 204.2102\n",
            "lr: 9.999999747378752e-05 train_loss: 9519.5 val_loss: 41701.8125 epoch: 64\n",
            "Epoch 66/100\n",
            "330/330 [==============================] - 1s 3ms/step - loss: 9658.1746 - root_mean_squared_error: 98.2393 - val_loss: 41623.6133 - val_root_mean_squared_error: 204.0187\n",
            "lr: 9.999999747378752e-05 train_loss: 9412.427734375 val_loss: 41623.61328125 epoch: 65\n",
            "Epoch 67/100\n",
            "330/330 [==============================] - 1s 3ms/step - loss: 9413.1234 - root_mean_squared_error: 97.0045 - val_loss: 41544.9336 - val_root_mean_squared_error: 203.8257\n",
            "lr: 9.999999747378752e-05 train_loss: 9482.2041015625 val_loss: 41544.93359375 epoch: 66\n",
            "Epoch 68/100\n",
            "330/330 [==============================] - 1s 3ms/step - loss: 9450.3465 - root_mean_squared_error: 97.1727 - val_loss: 41728.9922 - val_root_mean_squared_error: 204.2767\n",
            "lr: 9.999999747378752e-05 train_loss: 9406.5234375 val_loss: 41728.9921875 epoch: 67\n",
            "Epoch 69/100\n",
            "330/330 [==============================] - 1s 3ms/step - loss: 9008.7740 - root_mean_squared_error: 94.8901 - val_loss: 41445.6758 - val_root_mean_squared_error: 203.5821\n",
            "lr: 9.999999747378752e-05 train_loss: 9454.65625 val_loss: 41445.67578125 epoch: 68\n",
            "Epoch 70/100\n",
            "330/330 [==============================] - 1s 3ms/step - loss: 9364.9156 - root_mean_squared_error: 96.7588 - val_loss: 41688.2773 - val_root_mean_squared_error: 204.1771\n",
            "lr: 9.999999747378752e-05 train_loss: 9370.4140625 val_loss: 41688.27734375 epoch: 69\n",
            "Epoch 71/100\n",
            "330/330 [==============================] - 1s 3ms/step - loss: 8895.1004 - root_mean_squared_error: 94.3060 - val_loss: 41103.6953 - val_root_mean_squared_error: 202.7405\n",
            "lr: 9.999999747378752e-05 train_loss: 9086.236328125 val_loss: 41103.6953125 epoch: 70\n",
            "Epoch 72/100\n",
            "330/330 [==============================] - 1s 3ms/step - loss: 9362.8112 - root_mean_squared_error: 96.7450 - val_loss: 41338.2852 - val_root_mean_squared_error: 203.3182\n",
            "lr: 9.999999747378752e-05 train_loss: 9214.666015625 val_loss: 41338.28515625 epoch: 71\n",
            "Epoch 73/100\n",
            "330/330 [==============================] - 1s 3ms/step - loss: 9220.0926 - root_mean_squared_error: 96.0058 - val_loss: 41329.0273 - val_root_mean_squared_error: 203.2954\n",
            "lr: 9.999999747378752e-05 train_loss: 9201.2373046875 val_loss: 41329.02734375 epoch: 72\n",
            "Epoch 74/100\n",
            "330/330 [==============================] - 1s 3ms/step - loss: 9334.8678 - root_mean_squared_error: 96.5726 - val_loss: 41441.2734 - val_root_mean_squared_error: 203.5713\n",
            "lr: 9.999999747378752e-05 train_loss: 9135.08984375 val_loss: 41441.2734375 epoch: 73\n",
            "Epoch 75/100\n",
            "330/330 [==============================] - 1s 3ms/step - loss: 8819.4533 - root_mean_squared_error: 93.9001 - val_loss: 41073.2031 - val_root_mean_squared_error: 202.6653\n",
            "lr: 9.999999747378752e-05 train_loss: 9034.455078125 val_loss: 41073.203125 epoch: 74\n",
            "Epoch 76/100\n",
            "330/330 [==============================] - 1s 3ms/step - loss: 9391.2559 - root_mean_squared_error: 96.8815 - val_loss: 41153.1172 - val_root_mean_squared_error: 202.8623\n",
            "lr: 9.999999747378752e-05 train_loss: 9042.8369140625 val_loss: 41153.1171875 epoch: 75\n",
            "Epoch 77/100\n",
            "330/330 [==============================] - 1s 3ms/step - loss: 9384.0522 - root_mean_squared_error: 96.8361 - val_loss: 40919.3867 - val_root_mean_squared_error: 202.2854\n",
            "lr: 9.999999747378752e-05 train_loss: 9059.05859375 val_loss: 40919.38671875 epoch: 76\n",
            "Epoch 78/100\n",
            "330/330 [==============================] - 1s 3ms/step - loss: 8764.4813 - root_mean_squared_error: 93.5964 - val_loss: 40839.7109 - val_root_mean_squared_error: 202.0884\n",
            "lr: 9.999999747378752e-05 train_loss: 9040.4921875 val_loss: 40839.7109375 epoch: 77\n",
            "Epoch 79/100\n",
            "330/330 [==============================] - 1s 3ms/step - loss: 9097.6516 - root_mean_squared_error: 95.2705 - val_loss: 41310.1836 - val_root_mean_squared_error: 203.2491\n",
            "lr: 9.999999747378752e-05 train_loss: 8807.1845703125 val_loss: 41310.18359375 epoch: 78\n",
            "Epoch 80/100\n",
            "330/330 [==============================] - 1s 3ms/step - loss: 8872.1834 - root_mean_squared_error: 94.1768 - val_loss: 41122.1953 - val_root_mean_squared_error: 202.7861\n",
            "lr: 9.999999747378752e-05 train_loss: 8838.1904296875 val_loss: 41122.1953125 epoch: 79\n",
            "Epoch 81/100\n",
            "330/330 [==============================] - 1s 3ms/step - loss: 9091.5319 - root_mean_squared_error: 95.3340 - val_loss: 41396.4961 - val_root_mean_squared_error: 203.4613\n",
            "lr: 9.999999747378752e-05 train_loss: 9192.5 val_loss: 41396.49609375 epoch: 80\n",
            "Epoch 82/100\n",
            "330/330 [==============================] - 1s 3ms/step - loss: 8575.0523 - root_mean_squared_error: 92.5920 - val_loss: 40711.2344 - val_root_mean_squared_error: 201.7702\n",
            "lr: 9.999999747378752e-05 train_loss: 8631.0068359375 val_loss: 40711.234375 epoch: 81\n",
            "Epoch 83/100\n",
            "330/330 [==============================] - 1s 3ms/step - loss: 9037.9416 - root_mean_squared_error: 94.9738 - val_loss: 40448.9258 - val_root_mean_squared_error: 201.1192\n",
            "lr: 9.999999747378752e-05 train_loss: 8787.0078125 val_loss: 40448.92578125 epoch: 82\n",
            "Epoch 84/100\n",
            "330/330 [==============================] - 1s 3ms/step - loss: 8835.6990 - root_mean_squared_error: 93.9900 - val_loss: 39996.3633 - val_root_mean_squared_error: 199.9909\n",
            "lr: 9.999999747378752e-05 train_loss: 8686.1962890625 val_loss: 39996.36328125 epoch: 83\n",
            "Epoch 85/100\n",
            "330/330 [==============================] - 1s 3ms/step - loss: 8419.6332 - root_mean_squared_error: 91.7484 - val_loss: 39923.9805 - val_root_mean_squared_error: 199.8099\n",
            "lr: 9.999999747378752e-05 train_loss: 8553.171875 val_loss: 39923.98046875 epoch: 84\n",
            "Epoch 86/100\n",
            "330/330 [==============================] - 1s 3ms/step - loss: 9002.7530 - root_mean_squared_error: 94.8558 - val_loss: 40392.5703 - val_root_mean_squared_error: 200.9790\n",
            "lr: 9.999999747378752e-05 train_loss: 8811.388671875 val_loss: 40392.5703125 epoch: 85\n",
            "Epoch 87/100\n",
            "330/330 [==============================] - 1s 3ms/step - loss: 8644.2583 - root_mean_squared_error: 92.9657 - val_loss: 40160.0898 - val_root_mean_squared_error: 200.3998\n",
            "lr: 9.999999747378752e-05 train_loss: 8706.732421875 val_loss: 40160.08984375 epoch: 86\n",
            "Epoch 88/100\n",
            "330/330 [==============================] - 1s 3ms/step - loss: 8661.0454 - root_mean_squared_error: 93.0528 - val_loss: 40828.2109 - val_root_mean_squared_error: 202.0599\n",
            "lr: 9.999999747378752e-05 train_loss: 8582.2392578125 val_loss: 40828.2109375 epoch: 87\n",
            "Epoch 89/100\n",
            "330/330 [==============================] - 1s 3ms/step - loss: 8912.5689 - root_mean_squared_error: 94.3863 - val_loss: 40343.7617 - val_root_mean_squared_error: 200.8576\n",
            "lr: 9.999999747378752e-05 train_loss: 8567.880859375 val_loss: 40343.76171875 epoch: 88\n",
            "Epoch 90/100\n",
            "330/330 [==============================] - 1s 3ms/step - loss: 8732.8923 - root_mean_squared_error: 93.3917 - val_loss: 40670.4922 - val_root_mean_squared_error: 201.6693\n",
            "lr: 9.999999747378752e-05 train_loss: 8510.4072265625 val_loss: 40670.4921875 epoch: 89\n",
            "Epoch 91/100\n",
            "330/330 [==============================] - 1s 3ms/step - loss: 8340.6965 - root_mean_squared_error: 91.2710 - val_loss: 40477.5977 - val_root_mean_squared_error: 201.1904\n",
            "lr: 9.999999747378752e-05 train_loss: 8436.3974609375 val_loss: 40477.59765625 epoch: 90\n",
            "Epoch 92/100\n",
            "330/330 [==============================] - 1s 3ms/step - loss: 8739.3880 - root_mean_squared_error: 93.4646 - val_loss: 40474.7969 - val_root_mean_squared_error: 201.1835\n",
            "lr: 9.999999747378752e-05 train_loss: 8653.486328125 val_loss: 40474.796875 epoch: 91\n",
            "Epoch 93/100\n",
            "330/330 [==============================] - 1s 3ms/step - loss: 8639.1437 - root_mean_squared_error: 92.9040 - val_loss: 39989.1172 - val_root_mean_squared_error: 199.9728\n",
            "lr: 9.999999747378752e-05 train_loss: 8536.705078125 val_loss: 39989.1171875 epoch: 92\n",
            "Epoch 94/100\n",
            "330/330 [==============================] - 1s 3ms/step - loss: 8628.5176 - root_mean_squared_error: 92.8620 - val_loss: 41139.5430 - val_root_mean_squared_error: 202.8289\n",
            "lr: 9.999999747378752e-05 train_loss: 8389.615234375 val_loss: 41139.54296875 epoch: 93\n",
            "Epoch 95/100\n",
            "330/330 [==============================] - 1s 3ms/step - loss: 8784.2156 - root_mean_squared_error: 93.6447 - val_loss: 39927.5039 - val_root_mean_squared_error: 199.8187\n",
            "lr: 9.999999747378752e-05 train_loss: 8442.9453125 val_loss: 39927.50390625 epoch: 94\n",
            "Epoch 96/100\n",
            "330/330 [==============================] - 1s 3ms/step - loss: 8373.6445 - root_mean_squared_error: 91.4991 - val_loss: 40266.5938 - val_root_mean_squared_error: 200.6654\n",
            "lr: 9.999999747378752e-05 train_loss: 8272.455078125 val_loss: 40266.59375 epoch: 95\n",
            "Epoch 97/100\n",
            "330/330 [==============================] - 1s 3ms/step - loss: 8206.7044 - root_mean_squared_error: 90.5503 - val_loss: 40373.3438 - val_root_mean_squared_error: 200.9312\n",
            "lr: 9.999999747378752e-05 train_loss: 8358.3759765625 val_loss: 40373.34375 epoch: 96\n",
            "Epoch 98/100\n",
            "330/330 [==============================] - 1s 3ms/step - loss: 8053.1168 - root_mean_squared_error: 89.7109 - val_loss: 41056.9688 - val_root_mean_squared_error: 202.6252\n",
            "lr: 9.999999747378752e-05 train_loss: 8280.91796875 val_loss: 41056.96875 epoch: 97\n",
            "Epoch 99/100\n",
            "330/330 [==============================] - 1s 3ms/step - loss: 7831.4608 - root_mean_squared_error: 88.4870 - val_loss: 40481.6562 - val_root_mean_squared_error: 201.2005\n",
            "lr: 9.999999747378752e-05 train_loss: 8049.671875 val_loss: 40481.65625 epoch: 98\n",
            "Epoch 100/100\n",
            "330/330 [==============================] - 1s 3ms/step - loss: 8454.4908 - root_mean_squared_error: 91.9168 - val_loss: 40155.7031 - val_root_mean_squared_error: 200.3889\n",
            "lr: 9.999999747378752e-05 train_loss: 8248.087890625 val_loss: 40155.703125 epoch: 99\n"
          ],
          "name": "stdout"
        }
      ]
    },
    {
      "cell_type": "code",
      "metadata": {
        "colab": {
          "base_uri": "https://localhost:8080/",
          "height": 391
        },
        "id": "Hae2500aIYOg",
        "outputId": "0ee3d93f-7b75-47e6-8a3a-74a8a499522d"
      },
      "source": [
        "#plot the epochs and learning rate against train and validation loss\n",
        "fig, ax = plt.subplots(1,2,figsize=(10,6))\n",
        "\n",
        "plt.subplot(1,2,1)\n",
        "plt.plot(stats.lr, stats.train_loss, label='training')\n",
        "plt.plot(stats.lr, stats.val_loss, label='validation')\n",
        "plt.legend(loc='upper right')\n",
        "\n",
        "plt.subplot(1,2,2)\n",
        "plt.plot(stats.iters, stats.train_loss, label='training')\n",
        "plt.plot(stats.iters, stats.val_loss, label='validation')\n"
      ],
      "execution_count": null,
      "outputs": [
        {
          "output_type": "execute_result",
          "data": {
            "text/plain": [
              "[<matplotlib.lines.Line2D at 0x7f341bf57990>]"
            ]
          },
          "metadata": {
            "tags": []
          },
          "execution_count": 33
        },
        {
          "output_type": "display_data",
          "data": {
            "image/png": "[encoded data removed]",
            "text/plain": [
              "<Figure size 720x432 with 2 Axes>"
            ]
          },
          "metadata": {
            "tags": [],
            "needs_background": "light"
          }
        }
      ]
    },
    {
      "cell_type": "code",
      "metadata": {
        "id": "93-UkOs41i16"
      },
      "source": [
        "X_features = np.array(X_features).reshape(-1,1)\n",
        "X_features = np.expand_dims(X_features[:,:], axis=2)"
      ],
      "execution_count": null,
      "outputs": []
    },
    {
      "cell_type": "code",
      "metadata": {
        "colab": {
          "base_uri": "https://localhost:8080/"
        },
        "id": "DmVzEoaM1tWl",
        "outputId": "3671137c-5339-4443-b6cd-b6f6218608b0"
      },
      "source": [
        "X_features.shape"
      ],
      "execution_count": null,
      "outputs": [
        {
          "output_type": "execute_result",
          "data": {
            "text/plain": [
              "(13176, 1, 1)"
            ]
          },
          "metadata": {
            "tags": []
          },
          "execution_count": 37
        }
      ]
    },
    {
      "cell_type": "code",
      "metadata": {
        "colab": {
          "base_uri": "https://localhost:8080/"
        },
        "id": "2qcSImyMX1hk",
        "outputId": "3fffb16e-2cb0-467e-d6c7-52da3e25bbc6"
      },
      "source": [
        "#train the model based on plots above\n",
        "#X_features = np.expand_dims(X_features.values[:,:], axis=2)\n",
        "lr = 1e-4\n",
        "epochs=50\n",
        "final_model = build_model(model, X_features, y, lr, epochs)"
      ],
      "execution_count": null,
      "outputs": [
        {
          "output_type": "stream",
          "text": [
            "Epoch 1/50\n",
            "412/412 [==============================] - 2s 2ms/step - loss: 15762.4401 - root_mean_squared_error: 125.5245\n",
            "Epoch 2/50\n",
            "412/412 [==============================] - 1s 2ms/step - loss: 14618.6915 - root_mean_squared_error: 120.8705\n",
            "Epoch 3/50\n",
            "412/412 [==============================] - 1s 2ms/step - loss: 14784.6586 - root_mean_squared_error: 121.5451\n",
            "Epoch 4/50\n",
            "412/412 [==============================] - 1s 2ms/step - loss: 15051.0700 - root_mean_squared_error: 122.6218\n",
            "Epoch 5/50\n",
            "412/412 [==============================] - 1s 2ms/step - loss: 14749.6846 - root_mean_squared_error: 121.4192\n",
            "Epoch 6/50\n",
            "412/412 [==============================] - 1s 2ms/step - loss: 14684.7050 - root_mean_squared_error: 121.1331\n",
            "Epoch 7/50\n",
            "412/412 [==============================] - 1s 2ms/step - loss: 15065.9193 - root_mean_squared_error: 122.6849\n",
            "Epoch 8/50\n",
            "412/412 [==============================] - 1s 2ms/step - loss: 15158.1292 - root_mean_squared_error: 123.0663\n",
            "Epoch 9/50\n",
            "412/412 [==============================] - 1s 2ms/step - loss: 15420.6795 - root_mean_squared_error: 124.1522\n",
            "Epoch 10/50\n",
            "412/412 [==============================] - 1s 2ms/step - loss: 15073.1762 - root_mean_squared_error: 122.7634\n",
            "Epoch 11/50\n",
            "412/412 [==============================] - 1s 2ms/step - loss: 14728.0818 - root_mean_squared_error: 121.3400\n",
            "Epoch 12/50\n",
            "412/412 [==============================] - 1s 2ms/step - loss: 14757.8677 - root_mean_squared_error: 121.4574\n",
            "Epoch 13/50\n",
            "412/412 [==============================] - 1s 2ms/step - loss: 14609.8887 - root_mean_squared_error: 120.8042\n",
            "Epoch 14/50\n",
            "412/412 [==============================] - 1s 2ms/step - loss: 14320.9303 - root_mean_squared_error: 119.6116\n",
            "Epoch 15/50\n",
            "412/412 [==============================] - 1s 2ms/step - loss: 14572.0508 - root_mean_squared_error: 120.7048\n",
            "Epoch 16/50\n",
            "412/412 [==============================] - 1s 2ms/step - loss: 14743.1015 - root_mean_squared_error: 121.3971\n",
            "Epoch 17/50\n",
            "412/412 [==============================] - 1s 2ms/step - loss: 14418.7011 - root_mean_squared_error: 120.0420\n",
            "Epoch 18/50\n",
            "412/412 [==============================] - 1s 2ms/step - loss: 14950.3791 - root_mean_squared_error: 122.2520\n",
            "Epoch 19/50\n",
            "412/412 [==============================] - 1s 2ms/step - loss: 15025.2383 - root_mean_squared_error: 122.5025\n",
            "Epoch 20/50\n",
            "412/412 [==============================] - 1s 2ms/step - loss: 14984.6292 - root_mean_squared_error: 122.3984\n",
            "Epoch 21/50\n",
            "412/412 [==============================] - 1s 2ms/step - loss: 14762.8134 - root_mean_squared_error: 121.4790\n",
            "Epoch 22/50\n",
            "412/412 [==============================] - 1s 2ms/step - loss: 14641.8926 - root_mean_squared_error: 120.9546\n",
            "Epoch 23/50\n",
            "412/412 [==============================] - 1s 2ms/step - loss: 14867.7206 - root_mean_squared_error: 121.9205\n",
            "Epoch 24/50\n",
            "412/412 [==============================] - 1s 2ms/step - loss: 14466.6540 - root_mean_squared_error: 120.2594\n",
            "Epoch 25/50\n",
            "412/412 [==============================] - 1s 2ms/step - loss: 15199.6036 - root_mean_squared_error: 123.2694\n",
            "Epoch 26/50\n",
            "412/412 [==============================] - 1s 2ms/step - loss: 14283.3342 - root_mean_squared_error: 119.4579\n",
            "Epoch 27/50\n",
            "412/412 [==============================] - 1s 2ms/step - loss: 14865.2211 - root_mean_squared_error: 121.8760\n",
            "Epoch 28/50\n",
            "412/412 [==============================] - 1s 2ms/step - loss: 13935.7123 - root_mean_squared_error: 118.0297\n",
            "Epoch 29/50\n",
            "412/412 [==============================] - 1s 2ms/step - loss: 14408.8255 - root_mean_squared_error: 119.9933\n",
            "Epoch 30/50\n",
            "412/412 [==============================] - 1s 2ms/step - loss: 14502.0612 - root_mean_squared_error: 120.4104\n",
            "Epoch 31/50\n",
            "412/412 [==============================] - 1s 2ms/step - loss: 14514.3237 - root_mean_squared_error: 120.4542\n",
            "Epoch 32/50\n",
            "412/412 [==============================] - 1s 2ms/step - loss: 14370.0314 - root_mean_squared_error: 119.8665\n",
            "Epoch 33/50\n",
            "412/412 [==============================] - 1s 2ms/step - loss: 14509.1931 - root_mean_squared_error: 120.3234\n",
            "Epoch 34/50\n",
            "412/412 [==============================] - 1s 2ms/step - loss: 13992.7601 - root_mean_squared_error: 118.1972\n",
            "Epoch 35/50\n",
            "412/412 [==============================] - 1s 2ms/step - loss: 14612.0168 - root_mean_squared_error: 120.8533\n",
            "Epoch 36/50\n",
            "412/412 [==============================] - 1s 2ms/step - loss: 13944.5444 - root_mean_squared_error: 118.0611\n",
            "Epoch 37/50\n",
            "412/412 [==============================] - 1s 2ms/step - loss: 14839.7724 - root_mean_squared_error: 121.6899\n",
            "Epoch 38/50\n",
            "412/412 [==============================] - 1s 2ms/step - loss: 14913.7142 - root_mean_squared_error: 122.0816\n",
            "Epoch 39/50\n",
            "412/412 [==============================] - 1s 2ms/step - loss: 14577.9423 - root_mean_squared_error: 120.6981\n",
            "Epoch 40/50\n",
            "412/412 [==============================] - 1s 2ms/step - loss: 14343.6453 - root_mean_squared_error: 119.7396\n",
            "Epoch 41/50\n",
            "412/412 [==============================] - 1s 2ms/step - loss: 14030.1830 - root_mean_squared_error: 118.4233\n",
            "Epoch 42/50\n",
            "412/412 [==============================] - 1s 2ms/step - loss: 14281.3202 - root_mean_squared_error: 119.4758\n",
            "Epoch 43/50\n",
            "412/412 [==============================] - 1s 2ms/step - loss: 14378.4822 - root_mean_squared_error: 119.8377\n",
            "Epoch 44/50\n",
            "412/412 [==============================] - 1s 2ms/step - loss: 13885.7415 - root_mean_squared_error: 117.8321\n",
            "Epoch 45/50\n",
            "412/412 [==============================] - 1s 2ms/step - loss: 14810.9398 - root_mean_squared_error: 121.6592\n",
            "Epoch 46/50\n",
            "412/412 [==============================] - 1s 2ms/step - loss: 15121.6200 - root_mean_squared_error: 122.9175\n",
            "Epoch 47/50\n",
            "412/412 [==============================] - 1s 2ms/step - loss: 14221.6798 - root_mean_squared_error: 119.2190\n",
            "Epoch 48/50\n",
            "412/412 [==============================] - 1s 2ms/step - loss: 14293.9785 - root_mean_squared_error: 119.5077\n",
            "Epoch 49/50\n",
            "412/412 [==============================] - 1s 2ms/step - loss: 13138.8157 - root_mean_squared_error: 114.5593\n",
            "Epoch 50/50\n",
            "412/412 [==============================] - 1s 2ms/step - loss: 14226.1628 - root_mean_squared_error: 119.2196\n"
          ],
          "name": "stdout"
        }
      ]
    },
    {
      "cell_type": "code",
      "metadata": {
        "id": "1bXzVBrr2v3a"
      },
      "source": [
        "X_test = np.array(X_test).reshape(-1,1)\n",
        "X_test = np.expand_dims(X_test[:,:], axis=2)"
      ],
      "execution_count": null,
      "outputs": []
    },
    {
      "cell_type": "code",
      "metadata": {
        "id": "waWhS2VqEE3l"
      },
      "source": [
        "test_predictions = final_model.predict(X_test)\n",
        "y_test = test_predictions.reshape(-1,)"
      ],
      "execution_count": null,
      "outputs": []
    },
    {
      "cell_type": "markdown",
      "metadata": {
        "id": "CNAZzHJO-oOB"
      },
      "source": [
        "**Test submission**"
      ]
    },
    {
      "cell_type": "code",
      "metadata": {
        "id": "AEmpSNv2-sm-"
      },
      "source": [
        "test_predictions = pd.DataFrame({'ID':test_df['ID'], 'Count':y_test})\n",
        "test_predictions.to_csv('./submission.csv', index=False)"
      ],
      "execution_count": null,
      "outputs": []
    },
    {
      "cell_type": "code",
      "metadata": {
        "id": "GUWLpKwSavXc"
      },
      "source": [
        ""
      ],
      "execution_count": null,
      "outputs": []
    }
  ]
}
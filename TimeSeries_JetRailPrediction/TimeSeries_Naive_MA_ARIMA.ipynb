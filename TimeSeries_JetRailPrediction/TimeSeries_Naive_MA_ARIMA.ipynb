{
  "nbformat": 4,
  "nbformat_minor": 0,
  "metadata": {
    "colab": {
      "name": "TimeSeries_v2.ipynb",
      "provenance": [],
      "collapsed_sections": []
    },
    "kernelspec": {
      "name": "python3",
      "display_name": "Python 3"
    }
  },
  "cells": [
    {
      "cell_type": "code",
      "metadata": {
        "id": "-uP78GVCUowb"
      },
      "source": [
        "#All imports\n",
        "\n",
        "import warnings\n",
        "warnings.filterwarnings('ignore')\n",
        "\n",
        "import time\n",
        "import pandas as pd\n",
        "import numpy as np\n",
        "from pandas.plotting import autocorrelation_plot\n",
        "\n",
        "import matplotlib.pyplot as plt\n",
        "import seaborn as sns\n",
        "\n",
        "from sklearn.metrics import mean_squared_error\n",
        "\n",
        "from statsmodels.tsa.arima_model import ARIMA\n",
        "from statsmodels.graphics.tsaplots import plot_acf\n",
        "from statsmodels.graphics.tsaplots import plot_pacf"
      ],
      "execution_count": 1,
      "outputs": []
    },
    {
      "cell_type": "code",
      "metadata": {
        "colab": {
          "base_uri": "https://localhost:8080/"
        },
        "id": "66kcJ2GkU3Kl",
        "outputId": "99288036-2a4d-4479-a76b-3b75e19da6b5"
      },
      "source": [
        "from google.colab import drive\n",
        "drive.mount('/content/drive')"
      ],
      "execution_count": 2,
      "outputs": [
        {
          "output_type": "stream",
          "text": [
            "Mounted at /content/drive\n"
          ],
          "name": "stdout"
        }
      ]
    },
    {
      "cell_type": "markdown",
      "metadata": {
        "id": "wVWdOGtKVChk"
      },
      "source": [
        "**Data Reading and Understanding**"
      ]
    },
    {
      "cell_type": "code",
      "metadata": {
        "colab": {
          "base_uri": "https://localhost:8080/",
          "height": 235
        },
        "id": "ePqpa5sAU7Y5",
        "outputId": "cff6629f-4efc-4a15-9fd6-30f5a36a5c87"
      },
      "source": [
        "train_df = pd.read_csv('/content/drive/MyDrive/Colab Notebooks/AV_TimeSeriesAnalysis/Train.csv', index_col='ID')\n",
        "train_df.head()"
      ],
      "execution_count": 3,
      "outputs": [
        {
          "output_type": "execute_result",
          "data": {
            "text/html": [
              "<div>\n",
              "<style scoped>\n",
              "    .dataframe tbody tr th:only-of-type {\n",
              "        vertical-align: middle;\n",
              "    }\n",
              "\n",
              "    .dataframe tbody tr th {\n",
              "        vertical-align: top;\n",
              "    }\n",
              "\n",
              "    .dataframe thead th {\n",
              "        text-align: right;\n",
              "    }\n",
              "</style>\n",
              "<table border=\"1\" class=\"dataframe\">\n",
              "  <thead>\n",
              "    <tr style=\"text-align: right;\">\n",
              "      <th></th>\n",
              "      <th>Datetime</th>\n",
              "      <th>Count</th>\n",
              "    </tr>\n",
              "    <tr>\n",
              "      <th>ID</th>\n",
              "      <th></th>\n",
              "      <th></th>\n",
              "    </tr>\n",
              "  </thead>\n",
              "  <tbody>\n",
              "    <tr>\n",
              "      <th>0</th>\n",
              "      <td>25-08-2012 00:00</td>\n",
              "      <td>8</td>\n",
              "    </tr>\n",
              "    <tr>\n",
              "      <th>1</th>\n",
              "      <td>25-08-2012 01:00</td>\n",
              "      <td>2</td>\n",
              "    </tr>\n",
              "    <tr>\n",
              "      <th>2</th>\n",
              "      <td>25-08-2012 02:00</td>\n",
              "      <td>6</td>\n",
              "    </tr>\n",
              "    <tr>\n",
              "      <th>3</th>\n",
              "      <td>25-08-2012 03:00</td>\n",
              "      <td>2</td>\n",
              "    </tr>\n",
              "    <tr>\n",
              "      <th>4</th>\n",
              "      <td>25-08-2012 04:00</td>\n",
              "      <td>2</td>\n",
              "    </tr>\n",
              "  </tbody>\n",
              "</table>\n",
              "</div>"
            ],
            "text/plain": [
              "            Datetime  Count\n",
              "ID                         \n",
              "0   25-08-2012 00:00      8\n",
              "1   25-08-2012 01:00      2\n",
              "2   25-08-2012 02:00      6\n",
              "3   25-08-2012 03:00      2\n",
              "4   25-08-2012 04:00      2"
            ]
          },
          "metadata": {
            "tags": []
          },
          "execution_count": 3
        }
      ]
    },
    {
      "cell_type": "code",
      "metadata": {
        "colab": {
          "base_uri": "https://localhost:8080/",
          "height": 204
        },
        "id": "XmEKRgyeVUb0",
        "outputId": "3e1c2d38-778e-490a-8cd2-2178616cbafe"
      },
      "source": [
        "test_df = pd.read_csv('/content/drive/MyDrive/Colab Notebooks/AV_TimeSeriesAnalysis/Test.csv')\n",
        "test_df.head()"
      ],
      "execution_count": 4,
      "outputs": [
        {
          "output_type": "execute_result",
          "data": {
            "text/html": [
              "<div>\n",
              "<style scoped>\n",
              "    .dataframe tbody tr th:only-of-type {\n",
              "        vertical-align: middle;\n",
              "    }\n",
              "\n",
              "    .dataframe tbody tr th {\n",
              "        vertical-align: top;\n",
              "    }\n",
              "\n",
              "    .dataframe thead th {\n",
              "        text-align: right;\n",
              "    }\n",
              "</style>\n",
              "<table border=\"1\" class=\"dataframe\">\n",
              "  <thead>\n",
              "    <tr style=\"text-align: right;\">\n",
              "      <th></th>\n",
              "      <th>ID</th>\n",
              "      <th>Datetime</th>\n",
              "    </tr>\n",
              "  </thead>\n",
              "  <tbody>\n",
              "    <tr>\n",
              "      <th>0</th>\n",
              "      <td>18288</td>\n",
              "      <td>26-09-2014 00:00</td>\n",
              "    </tr>\n",
              "    <tr>\n",
              "      <th>1</th>\n",
              "      <td>18289</td>\n",
              "      <td>26-09-2014 01:00</td>\n",
              "    </tr>\n",
              "    <tr>\n",
              "      <th>2</th>\n",
              "      <td>18290</td>\n",
              "      <td>26-09-2014 02:00</td>\n",
              "    </tr>\n",
              "    <tr>\n",
              "      <th>3</th>\n",
              "      <td>18291</td>\n",
              "      <td>26-09-2014 03:00</td>\n",
              "    </tr>\n",
              "    <tr>\n",
              "      <th>4</th>\n",
              "      <td>18292</td>\n",
              "      <td>26-09-2014 04:00</td>\n",
              "    </tr>\n",
              "  </tbody>\n",
              "</table>\n",
              "</div>"
            ],
            "text/plain": [
              "      ID          Datetime\n",
              "0  18288  26-09-2014 00:00\n",
              "1  18289  26-09-2014 01:00\n",
              "2  18290  26-09-2014 02:00\n",
              "3  18291  26-09-2014 03:00\n",
              "4  18292  26-09-2014 04:00"
            ]
          },
          "metadata": {
            "tags": []
          },
          "execution_count": 4
        }
      ]
    },
    {
      "cell_type": "code",
      "metadata": {
        "colab": {
          "base_uri": "https://localhost:8080/"
        },
        "id": "qQLUjUEOVeab",
        "outputId": "20b8609f-6e91-4339-bc79-8a68922df270"
      },
      "source": [
        "train_df.info()"
      ],
      "execution_count": 5,
      "outputs": [
        {
          "output_type": "stream",
          "text": [
            "<class 'pandas.core.frame.DataFrame'>\n",
            "Int64Index: 18288 entries, 0 to 18287\n",
            "Data columns (total 2 columns):\n",
            " #   Column    Non-Null Count  Dtype \n",
            "---  ------    --------------  ----- \n",
            " 0   Datetime  18288 non-null  object\n",
            " 1   Count     18288 non-null  int64 \n",
            "dtypes: int64(1), object(1)\n",
            "memory usage: 428.6+ KB\n"
          ],
          "name": "stdout"
        }
      ]
    },
    {
      "cell_type": "code",
      "metadata": {
        "id": "t3CZWnCycWS8"
      },
      "source": [
        "#converting the datetime column from object to datetime\n",
        "train_df['Datetime'] = pd.to_datetime(train_df['Datetime'], format=\"%d-%m-%Y %H:%M\", errors=\"coerce\").fillna(pd.to_datetime(train_df['Datetime'], format=\"%d/%m/%Y %H:%M\", errors=\"coerce\"))"
      ],
      "execution_count": 6,
      "outputs": []
    },
    {
      "cell_type": "code",
      "metadata": {
        "colab": {
          "base_uri": "https://localhost:8080/"
        },
        "id": "RVX8T6KjfBku",
        "outputId": "0c348284-4c8a-41c3-f8b7-d58d7f24a0a6"
      },
      "source": [
        "#check if time values are equally spaced\n",
        "time_shift = train_df['Datetime'].shift(1)\n",
        "time_diff = train_df['Datetime'] - time_shift\n",
        "time_diff.value_counts()"
      ],
      "execution_count": 7,
      "outputs": [
        {
          "output_type": "execute_result",
          "data": {
            "text/plain": [
              "0 days 01:00:00    18287\n",
              "Name: Datetime, dtype: int64"
            ]
          },
          "metadata": {
            "tags": []
          },
          "execution_count": 7
        }
      ]
    },
    {
      "cell_type": "markdown",
      "metadata": {
        "id": "kE5LoHlOhTE6"
      },
      "source": [
        "**Considering univariate time series**"
      ]
    },
    {
      "cell_type": "code",
      "metadata": {
        "colab": {
          "base_uri": "https://localhost:8080/",
          "height": 388
        },
        "id": "YFX1xLJahSXB",
        "outputId": "3fef58ed-d352-4510-a85e-e52368c9b9e6"
      },
      "source": [
        "plt.figure(figsize=(8,6))\n",
        "sns.lineplot(x=train_df['Datetime'], y=train_df['Count'])\n",
        "plt.show()"
      ],
      "execution_count": 8,
      "outputs": [
        {
          "output_type": "display_data",
          "data": {
            "image/png": "[encoded data removed]",
            "text/plain": [
              "<Figure size 576x432 with 1 Axes>"
            ]
          },
          "metadata": {
            "tags": [],
            "needs_background": "light"
          }
        }
      ]
    },
    {
      "cell_type": "code",
      "metadata": {
        "id": "cDslkJonfkJU"
      },
      "source": [
        "#extract more features for visualization\n",
        "train_df['year'] = train_df['Datetime'].dt.year\n",
        "train_df['month'] = train_df['Datetime'].dt.month\n",
        "train_df['week'] = train_df['Datetime'].dt.weekofyear"
      ],
      "execution_count": 9,
      "outputs": []
    },
    {
      "cell_type": "code",
      "metadata": {
        "colab": {
          "base_uri": "https://localhost:8080/",
          "height": 402
        },
        "id": "fDcE8YA1lclu",
        "outputId": "e9fbcd14-6add-45d4-c5cf-bde365181095"
      },
      "source": [
        "#visualize count of passengers year-wise\n",
        "plt.figure(figsize=(10,6))\n",
        "count_by_year = train_df[['year', 'Count']].groupby(by=['year']).sum()\n",
        "plt.plot(count_by_year)"
      ],
      "execution_count": 10,
      "outputs": [
        {
          "output_type": "execute_result",
          "data": {
            "text/plain": [
              "[<matplotlib.lines.Line2D at 0x7fd1326dfed0>]"
            ]
          },
          "metadata": {
            "tags": []
          },
          "execution_count": 10
        },
        {
          "output_type": "display_data",
          "data": {
            "image/png": "[encoded data removed]",
            "text/plain": [
              "<Figure size 720x432 with 1 Axes>"
            ]
          },
          "metadata": {
            "tags": [],
            "needs_background": "light"
          }
        }
      ]
    },
    {
      "cell_type": "code",
      "metadata": {
        "colab": {
          "base_uri": "https://localhost:8080/",
          "height": 282
        },
        "id": "qqTINn9ump15",
        "outputId": "d9253154-b3d3-44ac-d3a7-445e68676ce7"
      },
      "source": [
        "#visualize passengers count month-wise for each year\n",
        "count_by_month_2012 = train_df[train_df['year'] == 2012][['month', 'Count']].groupby(by=['month']).sum()\n",
        "plt.plot(count_by_month_2012)"
      ],
      "execution_count": 11,
      "outputs": [
        {
          "output_type": "execute_result",
          "data": {
            "text/plain": [
              "[<matplotlib.lines.Line2D at 0x7fd131756290>]"
            ]
          },
          "metadata": {
            "tags": []
          },
          "execution_count": 11
        },
        {
          "output_type": "display_data",
          "data": {
            "image/png": "[encoded data removed]",
            "text/plain": [
              "<Figure size 432x288 with 1 Axes>"
            ]
          },
          "metadata": {
            "tags": [],
            "needs_background": "light"
          }
        }
      ]
    },
    {
      "cell_type": "code",
      "metadata": {
        "colab": {
          "base_uri": "https://localhost:8080/",
          "height": 282
        },
        "id": "1IwVwMFNnia-",
        "outputId": "abf4e7d9-a6d9-408b-e6a8-f08d1aec9a36"
      },
      "source": [
        "count_by_month_2013 = train_df[train_df['year'] == 2013][['month', 'Count']].groupby(by=['month']).sum()\n",
        "plt.plot(count_by_month_2013)"
      ],
      "execution_count": 12,
      "outputs": [
        {
          "output_type": "execute_result",
          "data": {
            "text/plain": [
              "[<matplotlib.lines.Line2D at 0x7fd1317468d0>]"
            ]
          },
          "metadata": {
            "tags": []
          },
          "execution_count": 12
        },
        {
          "output_type": "display_data",
          "data": {
            "image/png": "[encoded data removed]",
            "text/plain": [
              "<Figure size 432x288 with 1 Axes>"
            ]
          },
          "metadata": {
            "tags": [],
            "needs_background": "light"
          }
        }
      ]
    },
    {
      "cell_type": "code",
      "metadata": {
        "colab": {
          "base_uri": "https://localhost:8080/",
          "height": 282
        },
        "id": "VxSYjGaIn8fj",
        "outputId": "04ddcbc5-bd07-4615-d920-8dd70a95a51b"
      },
      "source": [
        "count_by_month_2014 = train_df[train_df['year'] == 2014][['month', 'Count']].groupby(by=['month']).sum()\n",
        "plt.plot(count_by_month_2014)"
      ],
      "execution_count": 13,
      "outputs": [
        {
          "output_type": "execute_result",
          "data": {
            "text/plain": [
              "[<matplotlib.lines.Line2D at 0x7fd1316ba110>]"
            ]
          },
          "metadata": {
            "tags": []
          },
          "execution_count": 13
        },
        {
          "output_type": "display_data",
          "data": {
            "image/png": "[encoded data removed]",
            "text/plain": [
              "<Figure size 432x288 with 1 Axes>"
            ]
          },
          "metadata": {
            "tags": [],
            "needs_background": "light"
          }
        }
      ]
    },
    {
      "cell_type": "markdown",
      "metadata": {
        "id": "0izyslJSq43k"
      },
      "source": [
        "**From plots above, there is a coninous increasing trend in passangers**"
      ]
    },
    {
      "cell_type": "markdown",
      "metadata": {
        "id": "Jq_q9ZYerNcd"
      },
      "source": [
        "**Modelling**"
      ]
    },
    {
      "cell_type": "code",
      "metadata": {
        "id": "_uCn0ZCV24AY"
      },
      "source": [
        "X = train_df['Datetime']\n",
        "y = train_df['Count']\n",
        "\n",
        "split_index = int(len(train_df)*0.80)\n",
        "X_train, y_train = X[0:split_index], y[0:split_index]\n",
        "X_val, y_val = X[split_index:] , y[split_index:]"
      ],
      "execution_count": 14,
      "outputs": []
    },
    {
      "cell_type": "markdown",
      "metadata": {
        "id": "n4qpll4DrPoG"
      },
      "source": [
        "**Baseline model - Naive Forecast**"
      ]
    },
    {
      "cell_type": "code",
      "metadata": {
        "colab": {
          "base_uri": "https://localhost:8080/"
        },
        "id": "-Osv9aBPrPPz",
        "outputId": "bcdd48fe-a06e-4b3b-98cd-34c2ee9d4299"
      },
      "source": [
        "y_val_pred = y[split_index-1:-1]\n",
        "\n",
        "print(\"rmse: \", np.sqrt(mean_squared_error(y_val, y_val_pred)))\n",
        "\n",
        "y_test = np.ones(len(test_df)) * y.iloc[-1]"
      ],
      "execution_count": null,
      "outputs": [
        {
          "output_type": "stream",
          "text": [
            "rmse:  72.73801637926756\n"
          ],
          "name": "stdout"
        }
      ]
    },
    {
      "cell_type": "markdown",
      "metadata": {
        "id": "dfZ-YCapxMcF"
      },
      "source": [
        "**Moving Average**"
      ]
    },
    {
      "cell_type": "code",
      "metadata": {
        "colab": {
          "base_uri": "https://localhost:8080/"
        },
        "id": "N4rI_sgaxLyf",
        "outputId": "d9d0f551-36c8-4251-bd0a-422d1fc988fd"
      },
      "source": [
        "y_val_pred = pd.Series(np.zeros(len(y_val)))\n",
        "\n",
        "for i in range(len(y_val_pred)):\n",
        "  y_val_pred[i] = y_train.append(y_val_pred[:i]).rolling(30).mean().iloc[-1]\n",
        "\n",
        "print(\"rmse: \", np.sqrt(mean_squared_error(y_val, y_val_pred)))\n",
        "\n",
        "y_test = pd.Series(np.zeros(len(test_df)))\n",
        "for i in range(len(test_df)):\n",
        "  y_test[i] = y.append(y_test[:i]).rolling(30).mean().iloc[-1]"
      ],
      "execution_count": null,
      "outputs": [
        {
          "output_type": "stream",
          "text": [
            "rmse:  210.41288514006956\n"
          ],
          "name": "stdout"
        }
      ]
    },
    {
      "cell_type": "markdown",
      "metadata": {
        "id": "7Gkbze244Se8"
      },
      "source": [
        "**ARIMA to capture trend**"
      ]
    },
    {
      "cell_type": "code",
      "metadata": {
        "colab": {
          "base_uri": "https://localhost:8080/",
          "height": 281
        },
        "id": "srL14nlKzaPm",
        "outputId": "d303a1fa-aeb5-43f5-8b6b-09a617ac2e66"
      },
      "source": [
        "plot_acf(y, lags=500)\n",
        "plt.show()"
      ],
      "execution_count": null,
      "outputs": [
        {
          "output_type": "display_data",
          "data": {
            "image/png": "[encoded data removed]",
            "text/plain": [
              "<Figure size 432x288 with 1 Axes>"
            ]
          },
          "metadata": {
            "tags": [],
            "needs_background": "light"
          }
        }
      ]
    },
    {
      "cell_type": "code",
      "metadata": {
        "colab": {
          "base_uri": "https://localhost:8080/",
          "height": 281
        },
        "id": "fC9sDOo24daV",
        "outputId": "2df5da1c-fefb-4c3d-c2e9-865dc8e4101d"
      },
      "source": [
        "plot_pacf(y, lags=29)\n",
        "plt.show()"
      ],
      "execution_count": null,
      "outputs": [
        {
          "output_type": "display_data",
          "data": {
            "image/png": "[encoded data removed]",
            "text/plain": [
              "<Figure size 432x288 with 1 Axes>"
            ]
          },
          "metadata": {
            "tags": [],
            "needs_background": "light"
          }
        }
      ]
    },
    {
      "cell_type": "code",
      "metadata": {
        "id": "U6GqY6SUC-2U"
      },
      "source": [
        "#walk-forward validation\n",
        "def evaluate_arima(order):\n",
        "  y_val_predictions = []\n",
        "  y_train_flt = y_train.astype('float64')\n",
        "  history = [x for x in y_train_flt]\n",
        "  for i in range(len(y_val)):\n",
        "    model = ARIMA(history, order)\n",
        "    model_fit = model.fit()  \n",
        "    y_val_predictions.append(model_fit.forecast()[0])\n",
        "\n",
        "    history.append(y_val[split_index + i])\n",
        "  \n",
        "  rmse = np.sqrt(mean_squared_error(y_val, y_val_predictions))\n",
        "  print (\"order: {} rmse: {}\".format(order, rmse))\n",
        "\n",
        "  return rmse"
      ],
      "execution_count": null,
      "outputs": []
    },
    {
      "cell_type": "markdown",
      "metadata": {
        "id": "iOnju9i65IPr"
      },
      "source": [
        "**From ACF and PACF plots considering order (1,1,0)**"
      ]
    },
    {
      "cell_type": "code",
      "metadata": {
        "colab": {
          "base_uri": "https://localhost:8080/"
        },
        "id": "eGvqLiZm5NIb",
        "outputId": "673b0eec-b4e2-4db9-e375-0dfd915865af"
      },
      "source": [
        "evaluate_arima((1,1,0))"
      ],
      "execution_count": null,
      "outputs": [
        {
          "output_type": "stream",
          "text": [
            "order: (1, 1, 0) rmse: 72.88959297178528\n"
          ],
          "name": "stdout"
        },
        {
          "output_type": "execute_result",
          "data": {
            "text/plain": [
              "72.88959297178528"
            ]
          },
          "metadata": {
            "tags": []
          },
          "execution_count": 17
        }
      ]
    },
    {
      "cell_type": "code",
      "metadata": {
        "colab": {
          "base_uri": "https://localhost:8080/"
        },
        "id": "CSjZfJDIvZcS",
        "outputId": "7b311c0f-c68a-429d-f482-0b71a47545f8"
      },
      "source": [
        "#Building a final ARIMA \n",
        "final_model = ARIMA(y, order=(1,1,0))\n",
        "final_model = final_model.fit()\n",
        "\n",
        "print (final_model.summary())"
      ],
      "execution_count": 15,
      "outputs": [
        {
          "output_type": "stream",
          "text": [
            "                             ARIMA Model Results                              \n",
            "==============================================================================\n",
            "Dep. Variable:                D.Count   No. Observations:                18287\n",
            "Model:                 ARIMA(1, 1, 0)   Log Likelihood              -93866.213\n",
            "Method:                       css-mle   S.D. of innovations             41.018\n",
            "Date:                Wed, 07 Apr 2021   AIC                         187738.425\n",
            "Time:                        09:05:31   BIC                         187761.867\n",
            "Sample:                             1   HQIC                        187746.128\n",
            "                                                                              \n",
            "=================================================================================\n",
            "                    coef    std err          z      P>|z|      [0.025      0.975]\n",
            "---------------------------------------------------------------------------------\n",
            "const             0.0288      0.313      0.092      0.927      -0.584       0.641\n",
            "ar.L1.D.Count     0.0294      0.007      3.977      0.000       0.015       0.044\n",
            "                                    Roots                                    \n",
            "=============================================================================\n",
            "                  Real          Imaginary           Modulus         Frequency\n",
            "-----------------------------------------------------------------------------\n",
            "AR.1           34.0192           +0.0000j           34.0192            0.0000\n",
            "-----------------------------------------------------------------------------\n"
          ],
          "name": "stdout"
        }
      ]
    },
    {
      "cell_type": "code",
      "metadata": {
        "id": "xV6R8A9QHepo"
      },
      "source": [
        "#Test predictions\n",
        "y_test = final_model.forecast(steps=len(test_df))[0]"
      ],
      "execution_count": null,
      "outputs": []
    },
    {
      "cell_type": "code",
      "metadata": {
        "colab": {
          "base_uri": "https://localhost:8080/",
          "height": 531
        },
        "id": "2VPQxdVnEHBQ",
        "outputId": "8b95a15b-8662-4c29-f051-2e0a900ffbc0"
      },
      "source": [
        "residuals = final_model.resid\n",
        "\n",
        "autocorrelation_plot(residuals).set_xlim([0,100])\n",
        "plt.show()\n",
        "\n",
        "residuals.plot(kind='kde')\n",
        "plt.show()"
      ],
      "execution_count": null,
      "outputs": [
        {
          "output_type": "display_data",
          "data": {
            "image/png": "[encoded data removed]",
            "text/plain": [
              "<Figure size 432x288 with 1 Axes>"
            ]
          },
          "metadata": {
            "tags": [],
            "needs_background": "light"
          }
        },
        {
          "output_type": "display_data",
          "data": {
            "image/png": "[encoded data removed]",
            "text/plain": [
              "<Figure size 432x288 with 1 Axes>"
            ]
          },
          "metadata": {
            "tags": [],
            "needs_background": "light"
          }
        }
      ]
    },
    {
      "cell_type": "markdown",
      "metadata": {
        "id": "CNAZzHJO-oOB"
      },
      "source": [
        "**Test submission**"
      ]
    },
    {
      "cell_type": "code",
      "metadata": {
        "id": "AEmpSNv2-sm-"
      },
      "source": [
        "test_predictions = pd.DataFrame({'ID':test_df['ID'], 'Count':y_test})\n",
        "test_predictions.to_csv('./submission.csv', index=False)"
      ],
      "execution_count": null,
      "outputs": []
    },
    {
      "cell_type": "code",
      "metadata": {
        "id": "dTWOo_4X-_ci"
      },
      "source": [
        ""
      ],
      "execution_count": null,
      "outputs": []
    }
  ]
}
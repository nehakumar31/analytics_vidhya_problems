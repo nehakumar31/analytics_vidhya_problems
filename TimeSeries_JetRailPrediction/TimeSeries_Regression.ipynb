{
  "nbformat": 4,
  "nbformat_minor": 0,
  "metadata": {
    "colab": {
      "name": "TimeSeries_v5.ipynb",
      "provenance": [],
      "collapsed_sections": []
    },
    "kernelspec": {
      "name": "python3",
      "display_name": "Python 3"
    }
  },
  "cells": [
    {
      "cell_type": "markdown",
      "metadata": {
        "id": "gFoe8pnOFgn2"
      },
      "source": [
        "**Time series forecasting using regression algorithm**"
      ]
    },
    {
      "cell_type": "code",
      "metadata": {
        "id": "-uP78GVCUowb"
      },
      "source": [
        "#All imports\n",
        "\n",
        "import warnings\n",
        "warnings.filterwarnings('ignore')\n",
        "\n",
        "import time\n",
        "import pandas as pd\n",
        "import numpy as np\n",
        "from pandas.plotting import autocorrelation_plot\n",
        "\n",
        "import matplotlib.pyplot as plt\n",
        "import seaborn as sns\n",
        "\n",
        "from sklearn.linear_model import LinearRegression\n",
        "from sklearn.metrics import mean_squared_error"
      ],
      "execution_count": null,
      "outputs": []
    },
    {
      "cell_type": "code",
      "metadata": {
        "colab": {
          "base_uri": "https://localhost:8080/"
        },
        "id": "66kcJ2GkU3Kl",
        "outputId": "a59930a4-fc12-4b68-ce46-9b9665bdb220"
      },
      "source": [
        "from google.colab import drive\n",
        "drive.mount('/content/drive')"
      ],
      "execution_count": null,
      "outputs": [
        {
          "output_type": "stream",
          "text": [
            "Mounted at /content/drive\n"
          ],
          "name": "stdout"
        }
      ]
    },
    {
      "cell_type": "markdown",
      "metadata": {
        "id": "wVWdOGtKVChk"
      },
      "source": [
        "**Data Reading and Understanding**"
      ]
    },
    {
      "cell_type": "code",
      "metadata": {
        "colab": {
          "base_uri": "https://localhost:8080/",
          "height": 204
        },
        "id": "ePqpa5sAU7Y5",
        "outputId": "635f42b7-a216-4ee6-f13a-355f57f1b1cc"
      },
      "source": [
        "train_df = pd.read_csv('/content/drive/MyDrive/Colab Notebooks/AV_TimeSeriesAnalysis/Train.csv')\n",
        "train_df.head()"
      ],
      "execution_count": null,
      "outputs": [
        {
          "output_type": "execute_result",
          "data": {
            "text/html": [
              "<div>\n",
              "<style scoped>\n",
              "    .dataframe tbody tr th:only-of-type {\n",
              "        vertical-align: middle;\n",
              "    }\n",
              "\n",
              "    .dataframe tbody tr th {\n",
              "        vertical-align: top;\n",
              "    }\n",
              "\n",
              "    .dataframe thead th {\n",
              "        text-align: right;\n",
              "    }\n",
              "</style>\n",
              "<table border=\"1\" class=\"dataframe\">\n",
              "  <thead>\n",
              "    <tr style=\"text-align: right;\">\n",
              "      <th></th>\n",
              "      <th>ID</th>\n",
              "      <th>Datetime</th>\n",
              "      <th>Count</th>\n",
              "    </tr>\n",
              "  </thead>\n",
              "  <tbody>\n",
              "    <tr>\n",
              "      <th>0</th>\n",
              "      <td>0</td>\n",
              "      <td>25-08-2012 00:00</td>\n",
              "      <td>8</td>\n",
              "    </tr>\n",
              "    <tr>\n",
              "      <th>1</th>\n",
              "      <td>1</td>\n",
              "      <td>25-08-2012 01:00</td>\n",
              "      <td>2</td>\n",
              "    </tr>\n",
              "    <tr>\n",
              "      <th>2</th>\n",
              "      <td>2</td>\n",
              "      <td>25-08-2012 02:00</td>\n",
              "      <td>6</td>\n",
              "    </tr>\n",
              "    <tr>\n",
              "      <th>3</th>\n",
              "      <td>3</td>\n",
              "      <td>25-08-2012 03:00</td>\n",
              "      <td>2</td>\n",
              "    </tr>\n",
              "    <tr>\n",
              "      <th>4</th>\n",
              "      <td>4</td>\n",
              "      <td>25-08-2012 04:00</td>\n",
              "      <td>2</td>\n",
              "    </tr>\n",
              "  </tbody>\n",
              "</table>\n",
              "</div>"
            ],
            "text/plain": [
              "   ID          Datetime  Count\n",
              "0   0  25-08-2012 00:00      8\n",
              "1   1  25-08-2012 01:00      2\n",
              "2   2  25-08-2012 02:00      6\n",
              "3   3  25-08-2012 03:00      2\n",
              "4   4  25-08-2012 04:00      2"
            ]
          },
          "metadata": {
            "tags": []
          },
          "execution_count": 5
        }
      ]
    },
    {
      "cell_type": "code",
      "metadata": {
        "colab": {
          "base_uri": "https://localhost:8080/",
          "height": 204
        },
        "id": "XmEKRgyeVUb0",
        "outputId": "eeeed526-09f5-4999-f073-7eca2e82b68f"
      },
      "source": [
        "test_df = pd.read_csv('/content/drive/MyDrive/Colab Notebooks/AV_TimeSeriesAnalysis/Test.csv')\n",
        "test_df.head()"
      ],
      "execution_count": null,
      "outputs": [
        {
          "output_type": "execute_result",
          "data": {
            "text/html": [
              "<div>\n",
              "<style scoped>\n",
              "    .dataframe tbody tr th:only-of-type {\n",
              "        vertical-align: middle;\n",
              "    }\n",
              "\n",
              "    .dataframe tbody tr th {\n",
              "        vertical-align: top;\n",
              "    }\n",
              "\n",
              "    .dataframe thead th {\n",
              "        text-align: right;\n",
              "    }\n",
              "</style>\n",
              "<table border=\"1\" class=\"dataframe\">\n",
              "  <thead>\n",
              "    <tr style=\"text-align: right;\">\n",
              "      <th></th>\n",
              "      <th>ID</th>\n",
              "      <th>Datetime</th>\n",
              "    </tr>\n",
              "  </thead>\n",
              "  <tbody>\n",
              "    <tr>\n",
              "      <th>0</th>\n",
              "      <td>18288</td>\n",
              "      <td>26-09-2014 00:00</td>\n",
              "    </tr>\n",
              "    <tr>\n",
              "      <th>1</th>\n",
              "      <td>18289</td>\n",
              "      <td>26-09-2014 01:00</td>\n",
              "    </tr>\n",
              "    <tr>\n",
              "      <th>2</th>\n",
              "      <td>18290</td>\n",
              "      <td>26-09-2014 02:00</td>\n",
              "    </tr>\n",
              "    <tr>\n",
              "      <th>3</th>\n",
              "      <td>18291</td>\n",
              "      <td>26-09-2014 03:00</td>\n",
              "    </tr>\n",
              "    <tr>\n",
              "      <th>4</th>\n",
              "      <td>18292</td>\n",
              "      <td>26-09-2014 04:00</td>\n",
              "    </tr>\n",
              "  </tbody>\n",
              "</table>\n",
              "</div>"
            ],
            "text/plain": [
              "      ID          Datetime\n",
              "0  18288  26-09-2014 00:00\n",
              "1  18289  26-09-2014 01:00\n",
              "2  18290  26-09-2014 02:00\n",
              "3  18291  26-09-2014 03:00\n",
              "4  18292  26-09-2014 04:00"
            ]
          },
          "metadata": {
            "tags": []
          },
          "execution_count": 6
        }
      ]
    },
    {
      "cell_type": "code",
      "metadata": {
        "colab": {
          "base_uri": "https://localhost:8080/"
        },
        "id": "qQLUjUEOVeab",
        "outputId": "b6e140b0-68f3-4ffe-f82a-5b78588d3a37"
      },
      "source": [
        "train_df.info()"
      ],
      "execution_count": null,
      "outputs": [
        {
          "output_type": "stream",
          "text": [
            "<class 'pandas.core.frame.DataFrame'>\n",
            "RangeIndex: 18288 entries, 0 to 18287\n",
            "Data columns (total 3 columns):\n",
            " #   Column    Non-Null Count  Dtype \n",
            "---  ------    --------------  ----- \n",
            " 0   ID        18288 non-null  int64 \n",
            " 1   Datetime  18288 non-null  object\n",
            " 2   Count     18288 non-null  int64 \n",
            "dtypes: int64(2), object(1)\n",
            "memory usage: 428.8+ KB\n"
          ],
          "name": "stdout"
        }
      ]
    },
    {
      "cell_type": "code",
      "metadata": {
        "id": "t3CZWnCycWS8"
      },
      "source": [
        "#converting the datetime column from object to datetime\n",
        "train_df['Datetime'] = pd.to_datetime(train_df['Datetime'], format=\"%d-%m-%Y %H:%M\", errors=\"coerce\").fillna(pd.to_datetime(train_df['Datetime'], format=\"%d/%m/%Y %H:%M\", errors=\"coerce\"))\n",
        "test_df['Datetime'] = pd.to_datetime(test_df['Datetime'], format=\"%d-%m-%Y %H:%M\", errors=\"coerce\").fillna(pd.to_datetime(test_df['Datetime'], format=\"%d/%m/%Y %H:%M\", errors=\"coerce\"))"
      ],
      "execution_count": null,
      "outputs": []
    },
    {
      "cell_type": "code",
      "metadata": {
        "id": "se3Qw79xIugb"
      },
      "source": [
        "test_df['Date'] = test_df['Datetime'].dt.date"
      ],
      "execution_count": null,
      "outputs": []
    },
    {
      "cell_type": "code",
      "metadata": {
        "colab": {
          "base_uri": "https://localhost:8080/",
          "height": 204
        },
        "id": "UAj8kNUNI5tG",
        "outputId": "644907c2-ca3e-4ea4-ef74-f378717757ae"
      },
      "source": [
        "test_df.head()"
      ],
      "execution_count": null,
      "outputs": [
        {
          "output_type": "execute_result",
          "data": {
            "text/html": [
              "<div>\n",
              "<style scoped>\n",
              "    .dataframe tbody tr th:only-of-type {\n",
              "        vertical-align: middle;\n",
              "    }\n",
              "\n",
              "    .dataframe tbody tr th {\n",
              "        vertical-align: top;\n",
              "    }\n",
              "\n",
              "    .dataframe thead th {\n",
              "        text-align: right;\n",
              "    }\n",
              "</style>\n",
              "<table border=\"1\" class=\"dataframe\">\n",
              "  <thead>\n",
              "    <tr style=\"text-align: right;\">\n",
              "      <th></th>\n",
              "      <th>ID</th>\n",
              "      <th>Datetime</th>\n",
              "      <th>Date</th>\n",
              "    </tr>\n",
              "  </thead>\n",
              "  <tbody>\n",
              "    <tr>\n",
              "      <th>0</th>\n",
              "      <td>18288</td>\n",
              "      <td>2014-09-26 00:00:00</td>\n",
              "      <td>2014-09-26</td>\n",
              "    </tr>\n",
              "    <tr>\n",
              "      <th>1</th>\n",
              "      <td>18289</td>\n",
              "      <td>2014-09-26 01:00:00</td>\n",
              "      <td>2014-09-26</td>\n",
              "    </tr>\n",
              "    <tr>\n",
              "      <th>2</th>\n",
              "      <td>18290</td>\n",
              "      <td>2014-09-26 02:00:00</td>\n",
              "      <td>2014-09-26</td>\n",
              "    </tr>\n",
              "    <tr>\n",
              "      <th>3</th>\n",
              "      <td>18291</td>\n",
              "      <td>2014-09-26 03:00:00</td>\n",
              "      <td>2014-09-26</td>\n",
              "    </tr>\n",
              "    <tr>\n",
              "      <th>4</th>\n",
              "      <td>18292</td>\n",
              "      <td>2014-09-26 04:00:00</td>\n",
              "      <td>2014-09-26</td>\n",
              "    </tr>\n",
              "  </tbody>\n",
              "</table>\n",
              "</div>"
            ],
            "text/plain": [
              "      ID            Datetime        Date\n",
              "0  18288 2014-09-26 00:00:00  2014-09-26\n",
              "1  18289 2014-09-26 01:00:00  2014-09-26\n",
              "2  18290 2014-09-26 02:00:00  2014-09-26\n",
              "3  18291 2014-09-26 03:00:00  2014-09-26\n",
              "4  18292 2014-09-26 04:00:00  2014-09-26"
            ]
          },
          "metadata": {
            "tags": []
          },
          "execution_count": 9
        }
      ]
    },
    {
      "cell_type": "code",
      "metadata": {
        "colab": {
          "base_uri": "https://localhost:8080/",
          "height": 419
        },
        "id": "GVPyT_jvI5qY",
        "outputId": "07f1dff0-2884-453a-96c4-58dbdf2b1cd7"
      },
      "source": [
        "test_df.groupby('Date').sum().reset_index()"
      ],
      "execution_count": null,
      "outputs": [
        {
          "output_type": "execute_result",
          "data": {
            "text/html": [
              "<div>\n",
              "<style scoped>\n",
              "    .dataframe tbody tr th:only-of-type {\n",
              "        vertical-align: middle;\n",
              "    }\n",
              "\n",
              "    .dataframe tbody tr th {\n",
              "        vertical-align: top;\n",
              "    }\n",
              "\n",
              "    .dataframe thead th {\n",
              "        text-align: right;\n",
              "    }\n",
              "</style>\n",
              "<table border=\"1\" class=\"dataframe\">\n",
              "  <thead>\n",
              "    <tr style=\"text-align: right;\">\n",
              "      <th></th>\n",
              "      <th>Date</th>\n",
              "      <th>ID</th>\n",
              "    </tr>\n",
              "  </thead>\n",
              "  <tbody>\n",
              "    <tr>\n",
              "      <th>0</th>\n",
              "      <td>2014-09-26</td>\n",
              "      <td>439188</td>\n",
              "    </tr>\n",
              "    <tr>\n",
              "      <th>1</th>\n",
              "      <td>2014-09-27</td>\n",
              "      <td>439764</td>\n",
              "    </tr>\n",
              "    <tr>\n",
              "      <th>2</th>\n",
              "      <td>2014-09-28</td>\n",
              "      <td>440340</td>\n",
              "    </tr>\n",
              "    <tr>\n",
              "      <th>3</th>\n",
              "      <td>2014-09-29</td>\n",
              "      <td>440916</td>\n",
              "    </tr>\n",
              "    <tr>\n",
              "      <th>4</th>\n",
              "      <td>2014-09-30</td>\n",
              "      <td>441492</td>\n",
              "    </tr>\n",
              "    <tr>\n",
              "      <th>...</th>\n",
              "      <td>...</td>\n",
              "      <td>...</td>\n",
              "    </tr>\n",
              "    <tr>\n",
              "      <th>208</th>\n",
              "      <td>2015-04-22</td>\n",
              "      <td>558996</td>\n",
              "    </tr>\n",
              "    <tr>\n",
              "      <th>209</th>\n",
              "      <td>2015-04-23</td>\n",
              "      <td>559572</td>\n",
              "    </tr>\n",
              "    <tr>\n",
              "      <th>210</th>\n",
              "      <td>2015-04-24</td>\n",
              "      <td>560148</td>\n",
              "    </tr>\n",
              "    <tr>\n",
              "      <th>211</th>\n",
              "      <td>2015-04-25</td>\n",
              "      <td>560724</td>\n",
              "    </tr>\n",
              "    <tr>\n",
              "      <th>212</th>\n",
              "      <td>2015-04-26</td>\n",
              "      <td>561300</td>\n",
              "    </tr>\n",
              "  </tbody>\n",
              "</table>\n",
              "<p>213 rows × 2 columns</p>\n",
              "</div>"
            ],
            "text/plain": [
              "           Date      ID\n",
              "0    2014-09-26  439188\n",
              "1    2014-09-27  439764\n",
              "2    2014-09-28  440340\n",
              "3    2014-09-29  440916\n",
              "4    2014-09-30  441492\n",
              "..          ...     ...\n",
              "208  2015-04-22  558996\n",
              "209  2015-04-23  559572\n",
              "210  2015-04-24  560148\n",
              "211  2015-04-25  560724\n",
              "212  2015-04-26  561300\n",
              "\n",
              "[213 rows x 2 columns]"
            ]
          },
          "metadata": {
            "tags": []
          },
          "execution_count": 10
        }
      ]
    },
    {
      "cell_type": "code",
      "metadata": {
        "colab": {
          "base_uri": "https://localhost:8080/"
        },
        "id": "RVX8T6KjfBku",
        "outputId": "7a96bf0c-da1d-4fc8-9148-8501261cd456"
      },
      "source": [
        "#check if time values are equally spaced\n",
        "time_shift = train_df['Datetime'].shift(1)\n",
        "time_diff = train_df['Datetime'] - time_shift\n",
        "time_diff.value_counts()"
      ],
      "execution_count": null,
      "outputs": [
        {
          "output_type": "execute_result",
          "data": {
            "text/plain": [
              "0 days 01:00:00    18287\n",
              "Name: Datetime, dtype: int64"
            ]
          },
          "metadata": {
            "tags": []
          },
          "execution_count": 8
        }
      ]
    },
    {
      "cell_type": "code",
      "metadata": {
        "colab": {
          "base_uri": "https://localhost:8080/"
        },
        "id": "4_R3ZW0V6n0d",
        "outputId": "321d74aa-fa9a-4970-9a96-0336c5544d9c"
      },
      "source": [
        "?datetime.timedelta"
      ],
      "execution_count": null,
      "outputs": [
        {
          "output_type": "stream",
          "text": [
            "Object `datetime.timedelta` not found.\n"
          ],
          "name": "stdout"
        }
      ]
    },
    {
      "cell_type": "code",
      "metadata": {
        "colab": {
          "base_uri": "https://localhost:8080/"
        },
        "id": "AtL6zUtB4Ad_",
        "outputId": "7a6db0e0-f293-4208-9901-003a3663a925"
      },
      "source": [
        "train_max_date = train_df['Datetime'].max()\n",
        "test_max_date = test_df['Datetime'].max()\n",
        "out_lag = (test_max_date - train_max_date).days*24\n",
        "print (\"train max date: {} test max date: {} Out lag: {}\".format(train_max_date, test_max_date, out_lag))"
      ],
      "execution_count": null,
      "outputs": [
        {
          "output_type": "stream",
          "text": [
            "train max date: 2014-09-25 23:00:00 test max date: 2015-04-26 23:00:00 Out lag: 5112\n"
          ],
          "name": "stdout"
        }
      ]
    },
    {
      "cell_type": "markdown",
      "metadata": {
        "id": "kE5LoHlOhTE6"
      },
      "source": [
        "**Considering univariate time series**"
      ]
    },
    {
      "cell_type": "code",
      "metadata": {
        "colab": {
          "base_uri": "https://localhost:8080/",
          "height": 388
        },
        "id": "YFX1xLJahSXB",
        "outputId": "bbc0149f-49cd-4189-a1e1-3b296f109df7"
      },
      "source": [
        "plt.figure(figsize=(8,6))\n",
        "sns.lineplot(x=train_df['Datetime'], y=train_df['Count'])\n",
        "plt.show()"
      ],
      "execution_count": null,
      "outputs": [
        {
          "output_type": "display_data",
          "data": {
            "image/png": "[encoded data removed]",
            "text/plain": [
              "<Figure size 576x432 with 1 Axes>"
            ]
          },
          "metadata": {
            "tags": [],
            "needs_background": "light"
          }
        }
      ]
    },
    {
      "cell_type": "code",
      "metadata": {
        "id": "cDslkJonfkJU"
      },
      "source": [
        "#extract more features for visualization\n",
        "train_df['year'] = train_df['Datetime'].dt.year\n",
        "train_df['month'] = train_df['Datetime'].dt.month\n",
        "train_df['week'] = train_df['Datetime'].dt.weekofyear"
      ],
      "execution_count": null,
      "outputs": []
    },
    {
      "cell_type": "code",
      "metadata": {
        "colab": {
          "base_uri": "https://localhost:8080/",
          "height": 402
        },
        "id": "fDcE8YA1lclu",
        "outputId": "376af31c-b5f0-4f2c-f427-406c4721d8e4"
      },
      "source": [
        "#visualize count of passengers year-wise\n",
        "plt.figure(figsize=(10,6))\n",
        "count_by_year = train_df[['year', 'Count']].groupby(by=['year']).sum()\n",
        "plt.plot(count_by_year)"
      ],
      "execution_count": null,
      "outputs": [
        {
          "output_type": "execute_result",
          "data": {
            "text/plain": [
              "[<matplotlib.lines.Line2D at 0x7ff2d7f328d0>]"
            ]
          },
          "metadata": {
            "tags": []
          },
          "execution_count": 8
        },
        {
          "output_type": "display_data",
          "data": {
            "image/png": "[encoded data removed]",
            "text/plain": [
              "<Figure size 720x432 with 1 Axes>"
            ]
          },
          "metadata": {
            "tags": [],
            "needs_background": "light"
          }
        }
      ]
    },
    {
      "cell_type": "code",
      "metadata": {
        "colab": {
          "base_uri": "https://localhost:8080/",
          "height": 282
        },
        "id": "qqTINn9ump15",
        "outputId": "296927f3-ac8a-42be-d270-48e6440c9042"
      },
      "source": [
        "#visualize passengers count month-wise for each year\n",
        "count_by_month_2012 = train_df[train_df['year'] == 2012][['month', 'Count']].groupby(by=['month']).sum()\n",
        "plt.plot(count_by_month_2012)"
      ],
      "execution_count": null,
      "outputs": [
        {
          "output_type": "execute_result",
          "data": {
            "text/plain": [
              "[<matplotlib.lines.Line2D at 0x7ff2d6795a10>]"
            ]
          },
          "metadata": {
            "tags": []
          },
          "execution_count": 9
        },
        {
          "output_type": "display_data",
          "data": {
            "image/png": "[encoded data removed]",
            "text/plain": [
              "<Figure size 432x288 with 1 Axes>"
            ]
          },
          "metadata": {
            "tags": [],
            "needs_background": "light"
          }
        }
      ]
    },
    {
      "cell_type": "code",
      "metadata": {
        "colab": {
          "base_uri": "https://localhost:8080/",
          "height": 282
        },
        "id": "1IwVwMFNnia-",
        "outputId": "feb92745-a7ab-4631-8257-55425d0741d9"
      },
      "source": [
        "count_by_month_2013 = train_df[train_df['year'] == 2013][['month', 'Count']].groupby(by=['month']).sum()\n",
        "plt.plot(count_by_month_2013)"
      ],
      "execution_count": null,
      "outputs": [
        {
          "output_type": "execute_result",
          "data": {
            "text/plain": [
              "[<matplotlib.lines.Line2D at 0x7ff2d671a390>]"
            ]
          },
          "metadata": {
            "tags": []
          },
          "execution_count": 10
        },
        {
          "output_type": "display_data",
          "data": {
            "image/png": "[encoded data removed]",
            "text/plain": [
              "<Figure size 432x288 with 1 Axes>"
            ]
          },
          "metadata": {
            "tags": [],
            "needs_background": "light"
          }
        }
      ]
    },
    {
      "cell_type": "code",
      "metadata": {
        "colab": {
          "base_uri": "https://localhost:8080/",
          "height": 282
        },
        "id": "VxSYjGaIn8fj",
        "outputId": "9a952e96-8155-467b-eda9-228c59f5fb5b"
      },
      "source": [
        "count_by_month_2014 = train_df[train_df['year'] == 2014][['month', 'Count']].groupby(by=['month']).sum()\n",
        "plt.plot(count_by_month_2014)"
      ],
      "execution_count": null,
      "outputs": [
        {
          "output_type": "execute_result",
          "data": {
            "text/plain": [
              "[<matplotlib.lines.Line2D at 0x7f2f921bc9d0>]"
            ]
          },
          "metadata": {
            "tags": []
          },
          "execution_count": 51
        },
        {
          "output_type": "display_data",
          "data": {
            "image/png": "[encoded data removed]",
            "text/plain": [
              "<Figure size 432x288 with 1 Axes>"
            ]
          },
          "metadata": {
            "tags": [],
            "needs_background": "light"
          }
        }
      ]
    },
    {
      "cell_type": "markdown",
      "metadata": {
        "id": "0izyslJSq43k"
      },
      "source": [
        "**From plots above, there is a coninous increasing trend in passangers**"
      ]
    },
    {
      "cell_type": "code",
      "metadata": {
        "id": "WdU800xq5mYK"
      },
      "source": [
        "X = train_df['Count']\n",
        "y = train_df['Count'].shift(-out_lag)"
      ],
      "execution_count": null,
      "outputs": []
    },
    {
      "cell_type": "code",
      "metadata": {
        "colab": {
          "base_uri": "https://localhost:8080/",
          "height": 283
        },
        "id": "8nuHzC9i5ipT",
        "outputId": "cfa9fdca-341e-4cf2-bb01-6e104faf7ca2"
      },
      "source": [
        "#see the distribution of count of passengers\n",
        "sns.distplot(X)\n",
        "plt.show()"
      ],
      "execution_count": null,
      "outputs": [
        {
          "output_type": "display_data",
          "data": {
            "image/png": "[encoded data removed]",
            "text/plain": [
              "<Figure size 432x288 with 1 Axes>"
            ]
          },
          "metadata": {
            "tags": [],
            "needs_background": "light"
          }
        }
      ]
    },
    {
      "cell_type": "code",
      "metadata": {
        "id": "EypkVdWL6U3i"
      },
      "source": [
        "cols, names = list(), list(['Count'])\n",
        "for i in range(1, 31, 1):\n",
        "  cols.append(X.shift(i))\n",
        "  names.append(\"Count-{}\".format(i))\n",
        "\n",
        "features = pd.concat(cols, axis=1)\n",
        "X_features = pd.concat([X, features], axis=1)\n",
        "X_features.columns = names\n",
        "X_features.fillna(0, inplace=True)"
      ],
      "execution_count": null,
      "outputs": []
    },
    {
      "cell_type": "code",
      "metadata": {
        "id": "i77eJu4Sx9IA"
      },
      "source": [
        "X_features = X\n",
        "X_features = np.array(X_features).reshape(-1,1)"
      ],
      "execution_count": null,
      "outputs": []
    },
    {
      "cell_type": "markdown",
      "metadata": {
        "id": "Jq_q9ZYerNcd"
      },
      "source": [
        "**Modelling**"
      ]
    },
    {
      "cell_type": "code",
      "metadata": {
        "id": "baAR4b07DwxO"
      },
      "source": [
        "X_test = X_features[-5112:]\n",
        "X_features = X_features[:-5112]\n",
        "y = y[:-5112]\n",
        "\n",
        "split_index = int(len(X_features)*0.80)\n",
        "X_train, y_train = X_features[0:split_index], y[0:split_index]\n",
        "X_val, y_val = X_features[split_index:] , y[split_index:]"
      ],
      "execution_count": null,
      "outputs": []
    },
    {
      "cell_type": "markdown",
      "metadata": {
        "id": "qluCzHVa5_aA"
      },
      "source": [
        "**Linear Regression**"
      ]
    },
    {
      "cell_type": "code",
      "metadata": {
        "colab": {
          "base_uri": "https://localhost:8080/"
        },
        "id": "dVL39Dkz5-wl",
        "outputId": "b636dbec-895c-4b39-ee1c-88589b1eb017"
      },
      "source": [
        "lm = LinearRegression(normalize=True)\n",
        "lm.fit(X_train, y_train)"
      ],
      "execution_count": null,
      "outputs": [
        {
          "output_type": "execute_result",
          "data": {
            "text/plain": [
              "LinearRegression(copy_X=True, fit_intercept=True, n_jobs=None, normalize=True)"
            ]
          },
          "metadata": {
            "tags": []
          },
          "execution_count": 37
        }
      ]
    },
    {
      "cell_type": "code",
      "metadata": {
        "colab": {
          "base_uri": "https://localhost:8080/"
        },
        "id": "-Ua1XRMI_owh",
        "outputId": "7b7eda96-3c97-41ab-838b-6b5f9f6f740a"
      },
      "source": [
        "train_prediction = lm.predict(X_train)\n",
        "print (\"train rmse: \",np.sqrt(mean_squared_error(y_train, train_prediction)))\n",
        "\n",
        "val_prediction = lm.predict(X_val)\n",
        "print (\"val rmse: \",np.sqrt(mean_squared_error(y_val, val_prediction)))"
      ],
      "execution_count": null,
      "outputs": [
        {
          "output_type": "stream",
          "text": [
            "train rmse:  84.17095802141296\n",
            "val rmse:  207.09513497049394\n"
          ],
          "name": "stdout"
        }
      ]
    },
    {
      "cell_type": "code",
      "metadata": {
        "id": "TOdkg79gCV4U"
      },
      "source": [
        "y_test = lm.predict(X_test)"
      ],
      "execution_count": null,
      "outputs": []
    },
    {
      "cell_type": "markdown",
      "metadata": {
        "id": "CNAZzHJO-oOB"
      },
      "source": [
        "**Test submission**"
      ]
    },
    {
      "cell_type": "code",
      "metadata": {
        "id": "AEmpSNv2-sm-"
      },
      "source": [
        "test_predictions = pd.DataFrame({'ID':test_df['ID'], 'Count':y_test})\n",
        "test_predictions.to_csv('./submission.csv', index=False)"
      ],
      "execution_count": null,
      "outputs": []
    },
    {
      "cell_type": "code",
      "metadata": {
        "id": "GUWLpKwSavXc"
      },
      "source": [
        ""
      ],
      "execution_count": null,
      "outputs": []
    }
  ]
}